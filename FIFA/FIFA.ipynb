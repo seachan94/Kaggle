{
 "cells": [
  {
   "cell_type": "code",
   "execution_count": 410,
   "metadata": {},
   "outputs": [],
   "source": [
    "#Data Analaysis\n",
    "\n",
    "import numpy as np\n",
    "import pandas as pd\n",
    "\n",
    "# for Visualization\n",
    "\n",
    "import matplotlib.pyplot as plt\n",
    "import seaborn as sns\n",
    "import plotly.graph_objs as go\n",
    "import plotly.express as px\n",
    "\n",
    "import plotly.io as pio\n",
    "import warnings\n",
    "\n",
    "pio.renderers.default = 'iframe' # or 'notebook' or 'colab'\n",
    "warnings.simplefilter(action = 'ignore',category = Warning)\n",
    "%matplotlib inline"
   ]
  },
  {
   "cell_type": "code",
   "execution_count": 411,
   "metadata": {},
   "outputs": [],
   "source": [
    "data = pd.read_csv('data.csv',index_col = 0)"
   ]
  },
  {
   "cell_type": "code",
   "execution_count": 412,
   "metadata": {},
   "outputs": [
    {
     "name": "stdout",
     "output_type": "stream",
     "text": [
      "<class 'pandas.core.frame.DataFrame'>\n",
      "Int64Index: 18207 entries, 0 to 18206\n",
      "Data columns (total 88 columns):\n",
      " #   Column                    Non-Null Count  Dtype  \n",
      "---  ------                    --------------  -----  \n",
      " 0   ID                        18207 non-null  int64  \n",
      " 1   Name                      18207 non-null  object \n",
      " 2   Age                       18207 non-null  int64  \n",
      " 3   Photo                     18207 non-null  object \n",
      " 4   Nationality               18207 non-null  object \n",
      " 5   Flag                      18207 non-null  object \n",
      " 6   Overall                   18207 non-null  int64  \n",
      " 7   Potential                 18207 non-null  int64  \n",
      " 8   Club                      17966 non-null  object \n",
      " 9   Club Logo                 18207 non-null  object \n",
      " 10  Value                     18207 non-null  object \n",
      " 11  Wage                      18207 non-null  object \n",
      " 12  Special                   18207 non-null  int64  \n",
      " 13  Preferred Foot            18159 non-null  object \n",
      " 14  International Reputation  18159 non-null  float64\n",
      " 15  Weak Foot                 18159 non-null  float64\n",
      " 16  Skill Moves               18159 non-null  float64\n",
      " 17  Work Rate                 18159 non-null  object \n",
      " 18  Body Type                 18159 non-null  object \n",
      " 19  Real Face                 18159 non-null  object \n",
      " 20  Position                  18147 non-null  object \n",
      " 21  Jersey Number             18147 non-null  float64\n",
      " 22  Joined                    16654 non-null  object \n",
      " 23  Loaned From               1264 non-null   object \n",
      " 24  Contract Valid Until      17918 non-null  object \n",
      " 25  Height                    18159 non-null  object \n",
      " 26  Weight                    18159 non-null  object \n",
      " 27  LS                        16122 non-null  object \n",
      " 28  ST                        16122 non-null  object \n",
      " 29  RS                        16122 non-null  object \n",
      " 30  LW                        16122 non-null  object \n",
      " 31  LF                        16122 non-null  object \n",
      " 32  CF                        16122 non-null  object \n",
      " 33  RF                        16122 non-null  object \n",
      " 34  RW                        16122 non-null  object \n",
      " 35  LAM                       16122 non-null  object \n",
      " 36  CAM                       16122 non-null  object \n",
      " 37  RAM                       16122 non-null  object \n",
      " 38  LM                        16122 non-null  object \n",
      " 39  LCM                       16122 non-null  object \n",
      " 40  CM                        16122 non-null  object \n",
      " 41  RCM                       16122 non-null  object \n",
      " 42  RM                        16122 non-null  object \n",
      " 43  LWB                       16122 non-null  object \n",
      " 44  LDM                       16122 non-null  object \n",
      " 45  CDM                       16122 non-null  object \n",
      " 46  RDM                       16122 non-null  object \n",
      " 47  RWB                       16122 non-null  object \n",
      " 48  LB                        16122 non-null  object \n",
      " 49  LCB                       16122 non-null  object \n",
      " 50  CB                        16122 non-null  object \n",
      " 51  RCB                       16122 non-null  object \n",
      " 52  RB                        16122 non-null  object \n",
      " 53  Crossing                  18159 non-null  float64\n",
      " 54  Finishing                 18159 non-null  float64\n",
      " 55  HeadingAccuracy           18159 non-null  float64\n",
      " 56  ShortPassing              18159 non-null  float64\n",
      " 57  Volleys                   18159 non-null  float64\n",
      " 58  Dribbling                 18159 non-null  float64\n",
      " 59  Curve                     18159 non-null  float64\n",
      " 60  FKAccuracy                18159 non-null  float64\n",
      " 61  LongPassing               18159 non-null  float64\n",
      " 62  BallControl               18159 non-null  float64\n",
      " 63  Acceleration              18159 non-null  float64\n",
      " 64  SprintSpeed               18159 non-null  float64\n",
      " 65  Agility                   18159 non-null  float64\n",
      " 66  Reactions                 18159 non-null  float64\n",
      " 67  Balance                   18159 non-null  float64\n",
      " 68  ShotPower                 18159 non-null  float64\n",
      " 69  Jumping                   18159 non-null  float64\n",
      " 70  Stamina                   18159 non-null  float64\n",
      " 71  Strength                  18159 non-null  float64\n",
      " 72  LongShots                 18159 non-null  float64\n",
      " 73  Aggression                18159 non-null  float64\n",
      " 74  Interceptions             18159 non-null  float64\n",
      " 75  Positioning               18159 non-null  float64\n",
      " 76  Vision                    18159 non-null  float64\n",
      " 77  Penalties                 18159 non-null  float64\n",
      " 78  Composure                 18159 non-null  float64\n",
      " 79  Marking                   18159 non-null  float64\n",
      " 80  StandingTackle            18159 non-null  float64\n",
      " 81  SlidingTackle             18159 non-null  float64\n",
      " 82  GKDiving                  18159 non-null  float64\n",
      " 83  GKHandling                18159 non-null  float64\n",
      " 84  GKKicking                 18159 non-null  float64\n",
      " 85  GKPositioning             18159 non-null  float64\n",
      " 86  GKReflexes                18159 non-null  float64\n",
      " 87  Release Clause            16643 non-null  object \n",
      "dtypes: float64(38), int64(5), object(45)\n",
      "memory usage: 12.4+ MB\n"
     ]
    }
   ],
   "source": [
    "data.info()"
   ]
  },
  {
   "cell_type": "code",
   "execution_count": 413,
   "metadata": {},
   "outputs": [],
   "source": [
    "data.drop(['ID','Photo','Flag','Club Logo','Real Face','Jersey Number','Loaned From'],\n",
    "          axis=1,inplace=True)"
   ]
  },
  {
   "cell_type": "markdown",
   "metadata": {},
   "source": [
    "\n",
    "    평균과 중항값 케이스 확인\n",
    "    \n",
    "    평균 : 모든 관측값의 합을 자료의 개수로 나눈것\n",
    "    중앙값 : 전체 관측값을 크기 순서로 배열햇을 때 가운데 위치하는 값\n",
    "    \n",
    "    - 평균은 전체 관측값이 골구로 반영 되어있어 대표값으로서 가치가 있다.\n",
    "    -  평균 근처에 표본이 몰려 있는 상황에서 대표값으로 유용하지만 극단 적 값의 영향을 많이 받는다.\n",
    "    \n",
    "    - 중앙값에서 관측값을 크기 순서로 배열할 때 관측값의 위치가 중요하다.\n",
    "      가운데 위치한 관측값 이외의 관측값들의 크기는 중요하지 않다.\n",
    "      \n",
    "      평균과는 달리 중앙값은 관측값에 대해 민감하지 않고 outlier에 대한 영향을 받지 않는다.\n",
    "      \n",
    "      충앙값은 표본의 편차 혹은 왜곡이 심하게 나타나는 경우 유용하다.\n",
    "  \n"
   ]
  },
  {
   "cell_type": "code",
   "execution_count": 414,
   "metadata": {},
   "outputs": [],
   "source": [
    "data['International Reputation'].fillna(data['International Reputation'].mean(),inplace = True)\n",
    "data['Skill Moves'].fillna(data['Skill Moves'].mean(),inplace = True)\n",
    "data['Weak Foot'].fillna(data['Weak Foot'].mean(), inplace = True)\n",
    "data['Crossing'].fillna(data['Crossing'].mean(), inplace = True)\n",
    "data['Finishing'].fillna(data['Finishing'].mean(), inplace = True)\n",
    "data['HeadingAccuracy'].fillna(data['HeadingAccuracy'].mean(), inplace = True)\n",
    "data['ShortPassing'].fillna(data['ShortPassing'].mean(), inplace = True)\n",
    "data['Volleys'].fillna(data['Volleys'].mean(), inplace = True)\n",
    "data['Dribbling'].fillna(data['Dribbling'].mean(), inplace = True)\n",
    "data['Curve'].fillna(data['Curve'].mean(), inplace = True) \n",
    "data['FKAccuracy'].fillna(data['FKAccuracy'].mean(), inplace = True)\n",
    "data['LongPassing'].fillna(data['LongPassing'].mean(), inplace = True)\n",
    "data['BallControl'].fillna(data['BallControl'].mean(), inplace = True)\n",
    "data['Acceleration'].fillna(data['Acceleration'].mean(), inplace = True)\n",
    "data['SprintSpeed'].fillna(data['SprintSpeed'].mean(), inplace = True)\n",
    "data['Agility'].fillna(data['Agility'].mean(), inplace = True)\n",
    "data['Reactions'].fillna(data['Reactions'].mean(), inplace = True)\n",
    "data['Balance'].fillna(data['Balance'].mean(), inplace = True)\n",
    "data['ShotPower'].fillna(data['ShotPower'].mean(), inplace = True)\n",
    "data['Jumping'].fillna(data['Jumping'].mean(), inplace = True)\n",
    "data['Stamina'].fillna(data['Stamina'].mean(), inplace = True)\n",
    "data['Strength'].fillna(data['Strength'].mean(), inplace = True)\n",
    "data['LongShots'].fillna(data['LongShots'].mean(), inplace = True)\n",
    "data['Aggression'].fillna(data['Aggression'].mean(), inplace = True)\n",
    "data['Interceptions'].fillna(data['Interceptions'].mean(), inplace = True)\n",
    "data['Positioning'].fillna(data['Positioning'].mean(), inplace = True)\n",
    "data['Vision'].fillna(data['Vision'].mean(), inplace = True)\n",
    "data['Penalties'].fillna(data['Penalties'].mean(), inplace = True)\n",
    "data['Composure'].fillna(data['Composure'].mean(), inplace = True)\n",
    "data['Marking'].fillna(data['Marking'].mean(), inplace = True)\n",
    "data['StandingTackle'].fillna(data['StandingTackle'].mean(), inplace = True)\n",
    "data['SlidingTackle'].fillna(data['SlidingTackle'].mean(), inplace = True)\n",
    "data['GKDiving'].fillna(data['GKDiving'].mean(), inplace = True)\n",
    "data['GKHandling'].fillna(data['GKHandling'].mean(), inplace = True)\n",
    "data['GKKicking'].fillna(data['GKKicking'].mean(), inplace = True)\n",
    "data['GKPositioning'].fillna(data['GKPositioning'].mean(), inplace = True)\n",
    "data['GKReflexes'].fillna(data['GKReflexes'].mean(), inplace = True)"
   ]
  },
  {
   "cell_type": "code",
   "execution_count": 415,
   "metadata": {},
   "outputs": [],
   "source": [
    "'''\n",
    "isinstance(Value,type) = Value가 type형인지 확인한다.\n",
    "'''\n",
    "\n",
    "def value_and_wage_conversion(Value):\n",
    "    if isinstance(Value,str):\n",
    "        out = Value.replace('€', '')\n",
    "        \n",
    "        if 'M' in out:\n",
    "            out = float(out.replace('M',''))*1000000\n",
    "            \n",
    "        elif 'K' in Value:\n",
    "            out = float(out.replace('K',''))*1000\n",
    "        return float(out)\n",
    "                            "
   ]
  },
  {
   "cell_type": "code",
   "execution_count": 416,
   "metadata": {},
   "outputs": [],
   "source": [
    "data['Value'] = data['Value'].apply(\n",
    "    lambda x : value_and_wage_conversion(x)\n",
    "    )\n",
    "\n",
    "data['Wage'] = data['Wage'].apply(\n",
    "    lambda x : value_and_wage_conversion(x)\n",
    "    )\n",
    "\n",
    "data['Release Clause'] = data['Release Clause'].apply(\n",
    "    lambda x : value_and_wage_conversion(x)\n",
    "    )"
   ]
  },
  {
   "cell_type": "code",
   "execution_count": 417,
   "metadata": {},
   "outputs": [],
   "source": [
    "data['Release Clause'].fillna(data['Release Clause'].mean(),inplace=True)"
   ]
  },
  {
   "cell_type": "code",
   "execution_count": 418,
   "metadata": {},
   "outputs": [],
   "source": [
    "#Categorical Columns\n",
    "\n",
    "data['Club'].fillna('No Club',inplace = True)\n",
    "data['Position'].fillna('unknown',inplace = True)"
   ]
  },
  {
   "cell_type": "code",
   "execution_count": 419,
   "metadata": {},
   "outputs": [
    {
     "data": {
      "text/plain": [
       "0         Jul 1, 2004\n",
       "1        Jul 10, 2018\n",
       "2         Aug 3, 2017\n",
       "3         Jul 1, 2011\n",
       "4        Aug 30, 2015\n",
       "             ...     \n",
       "18202     May 3, 2017\n",
       "18203    Mar 19, 2018\n",
       "18204     Jul 1, 2017\n",
       "18205    Apr 24, 2018\n",
       "18206    Oct 30, 2018\n",
       "Name: Joined, Length: 18207, dtype: object"
      ]
     },
     "execution_count": 419,
     "metadata": {},
     "output_type": "execute_result"
    }
   ],
   "source": [
    "data['Joined']"
   ]
  },
  {
   "cell_type": "code",
   "execution_count": 420,
   "metadata": {},
   "outputs": [
    {
     "data": {
      "text/plain": [
       "['Aug 3', '2017']"
      ]
     },
     "execution_count": 420,
     "metadata": {},
     "output_type": "execute_result"
    }
   ],
   "source": [
    "data['Joined'][2].split(\", \")"
   ]
  },
  {
   "cell_type": "code",
   "execution_count": 421,
   "metadata": {},
   "outputs": [],
   "source": [
    "def setform_date(x):\n",
    "    \n",
    "    check_list = list()\n",
    "    if isinstance(x,str):\n",
    "        check_list = x.split(\", \")\n",
    "        x = check_list[-1]\n",
    "    return x"
   ]
  },
  {
   "cell_type": "code",
   "execution_count": 422,
   "metadata": {},
   "outputs": [],
   "source": [
    "data['Joined'] = data['Joined'].replace(np.nan ,0)"
   ]
  },
  {
   "cell_type": "code",
   "execution_count": 423,
   "metadata": {},
   "outputs": [],
   "source": [
    "data['Joined'] = data['Joined'].apply(setform_date).astype('str')"
   ]
  },
  {
   "cell_type": "code",
   "execution_count": null,
   "metadata": {},
   "outputs": [],
   "source": []
  },
  {
   "cell_type": "code",
   "execution_count": 424,
   "metadata": {},
   "outputs": [],
   "source": [
    "import datetime\n",
    "\n",
    "data['Contract Valid Until'] = pd.to_datetime(data['Contract Valid Until'])"
   ]
  },
  {
   "cell_type": "code",
   "execution_count": 425,
   "metadata": {},
   "outputs": [],
   "source": [
    "data['year'] = pd.DatetimeIndex(data['Contract Valid Until']).year.astype(str)\n",
    "data['Contract Valid Until'].fillna('Not abailable',inplace = True)"
   ]
  },
  {
   "cell_type": "code",
   "execution_count": 426,
   "metadata": {},
   "outputs": [],
   "source": [
    "def clean_height(x):\n",
    "    check_list = list()\n",
    "    val = 1\n",
    "    if isinstance(x,str):\n",
    "        check_list = x.split(\"'\")\n",
    "        first = int(check_list[0])\n",
    "        second = int(check_list[1])\n",
    "        \n",
    "        val = ((first*12)+second)/12\n",
    "       \n",
    "    return val"
   ]
  },
  {
   "cell_type": "code",
   "execution_count": 427,
   "metadata": {},
   "outputs": [],
   "source": [
    "data['Height'] = data['Height'].apply(lambda x :clean_height(x))"
   ]
  },
  {
   "cell_type": "code",
   "execution_count": 428,
   "metadata": {},
   "outputs": [],
   "source": [
    "data['Height'].fillna(data['Height'].mean(),inplace=True)"
   ]
  },
  {
   "cell_type": "code",
   "execution_count": 429,
   "metadata": {},
   "outputs": [],
   "source": [
    "def clean_weight(x):\n",
    "    \n",
    "    if isinstance(x,str):\n",
    "        return x.replace('lbs','')"
   ]
  },
  {
   "cell_type": "code",
   "execution_count": 430,
   "metadata": {},
   "outputs": [],
   "source": [
    "data['Weight'] = data['Weight'].apply(\n",
    "    lambda x : clean_weight(x)\n",
    ").astype('float')\n",
    "data['Weight'].fillna((data['Weight'].mean()),inplace = True)"
   ]
  },
  {
   "cell_type": "code",
   "execution_count": 431,
   "metadata": {},
   "outputs": [
    {
     "data": {
      "text/plain": [
       "<AxesSubplot:xlabel='Weight', ylabel='Density'>"
      ]
     },
     "execution_count": 431,
     "metadata": {},
     "output_type": "execute_result"
    },
    {
     "data": {
      "image/png": "[encoded data removed]",
      "text/plain": [
       "<Figure size 432x288 with 1 Axes>"
      ]
     },
     "metadata": {
      "needs_background": "light"
     },
     "output_type": "display_data"
    }
   ],
   "source": [
    "sns.distplot(data['Weight'])"
   ]
  },
  {
   "cell_type": "code",
   "execution_count": 432,
   "metadata": {},
   "outputs": [],
   "source": [
    "data['Weight'].fillna(data['Weight'],inplace=True)"
   ]
  },
  {
   "cell_type": "code",
   "execution_count": 433,
   "metadata": {},
   "outputs": [
    {
     "data": {
      "text/plain": [
       "Medium/ Medium    9810\n",
       "High/ Medium      3173\n",
       "Medium/ High      1690\n",
       "High/ High        1015\n",
       "Medium/ Low        850\n",
       "High/ Low          699\n",
       "Low/ Medium        449\n",
       "Low/ High          439\n",
       "Low/ Low            34\n",
       "Name: Work Rate, dtype: int64"
      ]
     },
     "execution_count": 433,
     "metadata": {},
     "output_type": "execute_result"
    }
   ],
   "source": [
    "data['Work Rate'].value_counts()"
   ]
  },
  {
   "cell_type": "code",
   "execution_count": 434,
   "metadata": {},
   "outputs": [],
   "source": [
    "#최빈값으로 채움\n",
    "data['Work Rate'].fillna('Medium/ Medium',inplace = True)"
   ]
  },
  {
   "cell_type": "code",
   "execution_count": 435,
   "metadata": {},
   "outputs": [
    {
     "data": {
      "text/plain": [
       "Right    13948\n",
       "Left      4211\n",
       "Name: Preferred Foot, dtype: int64"
      ]
     },
     "execution_count": 435,
     "metadata": {},
     "output_type": "execute_result"
    }
   ],
   "source": [
    "data['Preferred Foot'].value_counts()"
   ]
  },
  {
   "cell_type": "code",
   "execution_count": 436,
   "metadata": {},
   "outputs": [],
   "source": [
    "data['Preferred Foot'].fillna('Right',inplace = True)"
   ]
  },
  {
   "cell_type": "code",
   "execution_count": 437,
   "metadata": {},
   "outputs": [
    {
     "data": {
      "text/plain": [
       "Normal                 10595\n",
       "Lean                    6417\n",
       "Stocky                  1140\n",
       "Shaqiri                    1\n",
       "PLAYER_BODY_TYPE_25        1\n",
       "Messi                      1\n",
       "Courtois                   1\n",
       "Neymar                     1\n",
       "Akinfenwa                  1\n",
       "C. Ronaldo                 1\n",
       "Name: Body Type, dtype: int64"
      ]
     },
     "execution_count": 437,
     "metadata": {},
     "output_type": "execute_result"
    }
   ],
   "source": [
    "data['Body Type'].value_counts()"
   ]
  },
  {
   "cell_type": "code",
   "execution_count": 438,
   "metadata": {},
   "outputs": [],
   "source": [
    "\n",
    "data['Body Type'][data['Body Type'] == 'Neymar'] = 'Lean'\n",
    "data['Body Type'][data['Body Type'] == 'Courtois'] = 'Lean'\n",
    "data['Body Type'][data['Body Type'] == 'C. Ronaldo'] = 'Normal'\n",
    "\n"
   ]
  },
  {
   "cell_type": "code",
   "execution_count": 439,
   "metadata": {},
   "outputs": [],
   "source": [
    "data['Body Type'][data['Body Type'] == 'PLAYER_BODY_TYPE_25'] = 'Normal'\n",
    "data['Body Type'][data['Body Type'] == 'Shaqiri'] = 'Stocky'\n",
    "data['Body Type'][data['Body Type'] == 'Akinfenwa'] = 'Stocky'\n",
    "data['Body Type'][data['Body Type'] == 'Messi'] = 'Stocky'"
   ]
  },
  {
   "cell_type": "code",
   "execution_count": 440,
   "metadata": {},
   "outputs": [],
   "source": [
    "data['Body Type'].fillna('Normal',inplace = True)"
   ]
  },
  {
   "cell_type": "code",
   "execution_count": 441,
   "metadata": {},
   "outputs": [
    {
     "data": {
      "text/plain": [
       "'93+2'"
      ]
     },
     "execution_count": 441,
     "metadata": {},
     "output_type": "execute_result"
    }
   ],
   "source": [
    "data['CAM'][0]"
   ]
  },
  {
   "cell_type": "code",
   "execution_count": 442,
   "metadata": {},
   "outputs": [],
   "source": [
    "def skillConverter(val):\n",
    "    if isinstance(val,str):\n",
    "        \n",
    "        if val is 'Normal':\n",
    "            return val\n",
    "        \n",
    "        first = val[0:2]\n",
    "        second = val[-1]\n",
    "        val = int(first)+int(second)\n",
    "        return val\n",
    "    else:\n",
    "        return val"
   ]
  },
  {
   "cell_type": "code",
   "execution_count": 443,
   "metadata": {},
   "outputs": [],
   "source": [
    "skill_columns = ['LS', 'ST', 'RS', 'LW', 'LF', 'CF', 'RF', 'RW', 'LAM', 'CAM',\n",
    "       'RAM', 'LM', 'LCM', 'CM', 'RCM', 'RM', 'LWB', 'LDM', 'CDM', 'RDM',\n",
    "       'RWB', 'LB', 'LCB', 'CB', 'RCB', 'RB']"
   ]
  },
  {
   "cell_type": "code",
   "execution_count": null,
   "metadata": {},
   "outputs": [],
   "source": []
  },
  {
   "cell_type": "code",
   "execution_count": 444,
   "metadata": {},
   "outputs": [],
   "source": [
    "for col in skill_columns:\n",
    "    data[col] = data[col].apply(skillConverter)\n",
    "    data[col].fillna(0.0,inplace = True)"
   ]
  },
  {
   "cell_type": "code",
   "execution_count": 445,
   "metadata": {},
   "outputs": [],
   "source": [
    "def pie_count(check_data, field, percent_limit = 0.5,title = \"Number of players by \"):\n",
    "    title += field\n",
    "    \n",
    "    check_data = check_data[field].value_counts().to_frame()\n",
    "    \n",
    "    total = check_data[field].sum()\n",
    "    check_data['percentage'] =100*check_data[field]/total\n",
    "    \n",
    "    otherdata = check_data[check_data['percentage']<percent_limit]\n",
    "    others = otherdata['percentage'].sum()\n",
    "    maindata = check_data[check_data['percentage']>=percent_limit]\n",
    "    \n",
    "    check_data = maindata\n",
    "    other_label = 'Other(<' + str(percent_limit) +\"% each)\"\n",
    "    \n",
    "    check_data.loc[other_label] = pd.Series({field:otherdata[field].sum()})\n",
    "    \n",
    "    labels = check_data.index.tolist()\n",
    "    datavals = check_data[field].tolist()\n",
    "    \n",
    "    trace = go.Pie(\n",
    "        labels = labels,\n",
    "        values = datavals\n",
    "    )\n",
    "    \n",
    "    layout = go.Layout(\n",
    "        title = title,\n",
    "        height = 700\n",
    "    )\n",
    "   \n",
    "    fig = go.Figure(data=[trace],layout = layout)\n",
    "    fig.show()\n",
    "    \n",
    "    "
   ]
  },
  {
   "cell_type": "code",
   "execution_count": 446,
   "metadata": {},
   "outputs": [
    {
     "data": {
      "text/html": [
       "<iframe\n",
       "    scrolling=\"no\"\n",
       "    width=\"100%\"\n",
       "    height=\"720\"\n",
       "    src=\"iframe_figures/figure_446.html\"\n",
       "    frameborder=\"0\"\n",
       "    allowfullscreen\n",
       "></iframe>\n"
      ]
     },
     "metadata": {},
     "output_type": "display_data"
    }
   ],
   "source": [
    "\n",
    "pie_count(data,'Position',0.1)"
   ]
  },
  {
   "cell_type": "code",
   "execution_count": 447,
   "metadata": {},
   "outputs": [
    {
     "data": {
      "image/png": "[encoded data removed]",
      "text/plain": [
       "<Figure size 720x576 with 1 Axes>"
      ]
     },
     "metadata": {
      "needs_background": "light"
     },
     "output_type": "display_data"
    }
   ],
   "source": [
    "x = data['Age']\n",
    "plt.figure(figsize = (10,8))\n",
    "\n",
    "ax = sns.countplot(x,color = '#00ffff')\n",
    "ax.set_xlabel(xlabel = 'age',fontsize = 20)\n",
    "ax.set_title(label = \"Distribution of Age of the Players\",fontsize = 24)\n",
    "plt.show()"
   ]
  },
  {
   "cell_type": "code",
   "execution_count": 448,
   "metadata": {},
   "outputs": [
    {
     "data": {
      "image/png": "[encoded data removed]",
      "text/plain": [
       "<Figure size 720x576 with 1 Axes>"
      ]
     },
     "metadata": {
      "needs_background": "light"
     },
     "output_type": "display_data"
    }
   ],
   "source": [
    "overall = pd.DataFrame(data.groupby([\"Age\"])['Overall'].mean())\n",
    "potential = pd.DataFrame(data.groupby([\"Age\"])['Potential'].mean())\n",
    "\n",
    "merged = pd.merge(overall,potential,on = 'Age',how = 'inner')\n",
    "merged['Age'] = merged.index\n",
    "fig, ax = plt.subplots(figsize = (10,8))\n",
    "merged.reset_index(drop = True,inplace = True)\n",
    "\n",
    "plt.plot('Age', 'Overall', data=merged, marker='.', color='#00ffff', lw=1, label =\"Overall\" )\n",
    "plt.plot('Age', 'Potential', data=merged, marker='+', color='#0000cc', lw=1, label = \"Potential\")\n",
    "plt.xlabel('Overall Rating')\n",
    "plt.ylabel('Average Growth Potential by Age')\n",
    "plt.legend();"
   ]
  },
  {
   "cell_type": "code",
   "execution_count": 449,
   "metadata": {},
   "outputs": [
    {
     "data": {
      "text/html": [
       "<iframe\n",
       "    scrolling=\"no\"\n",
       "    width=\"100%\"\n",
       "    height=\"545px\"\n",
       "    src=\"iframe_figures/figure_449.html\"\n",
       "    frameborder=\"0\"\n",
       "    allowfullscreen\n",
       "></iframe>\n"
      ]
     },
     "metadata": {},
     "output_type": "display_data"
    }
   ],
   "source": [
    "club = data.groupby('Club')['Value'].mean().reset_index().sort_values('Value', ascending=True).tail(20)\n",
    "fig = px.bar(club, x=\"Value\", y=\"Club\", orientation='h')\n",
    "fig.show()"
   ]
  },
  {
   "cell_type": "code",
   "execution_count": 450,
   "metadata": {},
   "outputs": [
    {
     "data": {
      "text/html": [
       "<iframe\n",
       "    scrolling=\"no\"\n",
       "    width=\"100%\"\n",
       "    height=\"545px\"\n",
       "    src=\"iframe_figures/figure_450.html\"\n",
       "    frameborder=\"0\"\n",
       "    allowfullscreen\n",
       "></iframe>\n"
      ]
     },
     "metadata": {},
     "output_type": "display_data"
    }
   ],
   "source": [
    "clubs = data.groupby('Club')['Overall'].mean().reset_index().sort_values('Overall',ascending = False).head(20)\n",
    "fig = px.bar(clubs, x=\"Overall\", y=\"Club\", orientation='h')\n",
    "fig.show()"
   ]
  },
  {
   "cell_type": "code",
   "execution_count": 451,
   "metadata": {},
   "outputs": [],
   "source": [
    "#Feature engine\n",
    "\n",
    "nation_count = data['Nationality'].value_counts()\n",
    "nation_list = nation_count[nation_count>250].index.tolist()\n",
    "\n",
    "def Nation(df):\n",
    "    \n",
    "    if df[\"Nationality\"] in nation_list:\n",
    "        return 1\n",
    "    else:\n",
    "        return 0\n"
   ]
  },
  {
   "cell_type": "code",
   "execution_count": 452,
   "metadata": {},
   "outputs": [],
   "source": [
    "data[\"Nationality\"] = data.apply(\n",
    "    lambda x : Nation(x),\n",
    "    axis = 1\n",
    ")"
   ]
  },
  {
   "cell_type": "code",
   "execution_count": 453,
   "metadata": {},
   "outputs": [],
   "source": [
    "def change_foot(x):\n",
    "    if x['Preferred Foot'] == \"Right\":\n",
    "        return 1\n",
    "    else:\n",
    "        return 0\n",
    "    \n",
    "data[\"Preferred Foot\"] = data.apply(\n",
    "    lambda x: change_foot(x),\n",
    "    axis = 1\n",
    ")"
   ]
  },
  {
   "cell_type": "code",
   "execution_count": 454,
   "metadata": {},
   "outputs": [],
   "source": [
    "def simple_position(df):\n",
    "    if (df == 'GK'):\n",
    "        return 'GK'\n",
    "    elif ((df == 'RB') | (df == 'LB') | (df == 'CB') | (df == 'LCB') | (df == 'RCB') | (df == 'RWB') | (df == 'LWB') ):\n",
    "        return 'DF'\n",
    "    elif ((df == 'LDM') | (df == 'CDM') | (df == 'RDM')):\n",
    "        return 'DM'\n",
    "    elif ((df == 'LM') | (df == 'LCM') | (df == 'CM') | (df == 'RCM') | (df == 'RM')):\n",
    "        return 'MF'\n",
    "    elif ((df == 'LAM') | (df == 'CAM') | (df == 'RAM') | (df == 'LW') | (df == 'RW')):\n",
    "        return 'AM'\n",
    "    elif ((df == 'RS') | (df == 'ST') | (df == 'LS') | (df == 'CF') | (df == 'LF') | (df == 'RF')):\n",
    "        return 'ST'\n",
    "    else:\n",
    "        return df\n",
    "    \n",
    "data[\"Position\"] = data[\"Position\"].apply(\n",
    "    lambda x : simple_position(x)\n",
    ")"
   ]
  },
  {
   "cell_type": "code",
   "execution_count": 455,
   "metadata": {},
   "outputs": [
    {
     "data": {
      "text/plain": [
       "DF         5866\n",
       "MF         4399\n",
       "ST         2667\n",
       "GK         2025\n",
       "AM         1751\n",
       "DM         1439\n",
       "unknown      60\n",
       "Name: Position, dtype: int64"
      ]
     },
     "execution_count": 455,
     "metadata": {},
     "output_type": "execute_result"
    }
   ],
   "source": [
    "data[\"Position\"].value_counts()"
   ]
  },
  {
   "cell_type": "code",
   "execution_count": 456,
   "metadata": {},
   "outputs": [],
   "source": [
    "teample = data[\"Work Rate\"].str.split(\"/ \", n = 1, expand = True)\n",
    "data[\"WorkRate1\"] = teample[0]\n",
    "data['WorkRate2'] = teample[1]"
   ]
  },
  {
   "cell_type": "code",
   "execution_count": 457,
   "metadata": {},
   "outputs": [],
   "source": [
    "data.drop(['Name','Club','Wage','Work Rate','Joined',\n",
    "          'Contract Valid Until','Release Clause','year'],axis=1,inplace=True)"
   ]
  },
  {
   "cell_type": "code",
   "execution_count": 458,
   "metadata": {},
   "outputs": [],
   "source": [
    "def mapping_data(df =None, feature=None):\n",
    "    \n",
    "    unique = df[feature].unique()\n",
    "    mapping_data = dict()\n",
    "    \n",
    "    for val,key in enumerate(unique):\n",
    "        mapping_data[key] = val\n",
    "        \n",
    "    \n",
    "    return df[feature].map(mapping_data)"
   ]
  },
  {
   "cell_type": "code",
   "execution_count": 459,
   "metadata": {},
   "outputs": [],
   "source": [
    "data[\"Body Type\"]= mapping_data(data,'Body Type')"
   ]
  },
  {
   "cell_type": "code",
   "execution_count": 460,
   "metadata": {},
   "outputs": [],
   "source": [
    "data[\"Position\"]= mapping_data(data,'Position')"
   ]
  },
  {
   "cell_type": "code",
   "execution_count": 461,
   "metadata": {},
   "outputs": [],
   "source": [
    "data['WorkRate1'] = mapping_data(data,\"WorkRate1\")"
   ]
  },
  {
   "cell_type": "code",
   "execution_count": 462,
   "metadata": {},
   "outputs": [],
   "source": [
    "data['WorkRate2'] = mapping_data(data,\"WorkRate2\")"
   ]
  },
  {
   "cell_type": "code",
   "execution_count": 463,
   "metadata": {},
   "outputs": [],
   "source": [
    "X = data[['Age','Overall', 'Potential','Special','International Reputation', 'Weak Foot', \n",
    "          'Skill Moves', 'Height', 'Weight','Crossing', 'Finishing', 'HeadingAccuracy', \n",
    "          'ShortPassing', 'Volleys','Dribbling', 'Curve', 'FKAccuracy', 'LongPassing', \n",
    "          'BallControl','Acceleration', 'SprintSpeed', 'Agility', 'Reactions', 'Balance',\n",
    "          'ShotPower', 'Jumping', 'Stamina', 'Strength', 'LongShots',\n",
    "          'Aggression', 'Interceptions', 'Positioning', 'Vision', 'Penalties',\n",
    "          'Composure', 'Marking', 'StandingTackle', 'SlidingTackle', 'GKDiving',\n",
    "          'GKHandling', 'GKKicking', 'GKPositioning', 'GKReflexes',\n",
    "          'Nationality', 'Preferred Foot']]\n",
    "y = np.log1p(data['Value'])"
   ]
  },
  {
   "cell_type": "code",
   "execution_count": 464,
   "metadata": {},
   "outputs": [
    {
     "data": {
      "text/plain": [
       "<AxesSubplot:xlabel='Value'>"
      ]
     },
     "execution_count": 464,
     "metadata": {},
     "output_type": "execute_result"
    },
    {
     "data": {
      "image/png": "[encoded data removed]",
      "text/plain": [
       "<Figure size 432x288 with 1 Axes>"
      ]
     },
     "metadata": {
      "needs_background": "light"
     },
     "output_type": "display_data"
    }
   ],
   "source": [
    "sns.distplot(y,kde=False)"
   ]
  },
  {
   "cell_type": "code",
   "execution_count": 465,
   "metadata": {},
   "outputs": [],
   "source": [
    "yidx = y[y>7].index\n",
    "x = X.loc[yidx]\n",
    "y = y[y>7]"
   ]
  },
  {
   "cell_type": "code",
   "execution_count": 466,
   "metadata": {},
   "outputs": [
    {
     "data": {
      "text/plain": [
       "SelectFromModel(estimator=Lasso(alpha=0.0001, random_state=42))"
      ]
     },
     "execution_count": 466,
     "metadata": {},
     "output_type": "execute_result"
    }
   ],
   "source": [
    "from sklearn.feature_selection import SelectFromModel\n",
    "from sklearn.linear_model import Lasso\n",
    "from sklearn.preprocessing import MinMaxScaler\n",
    "x_norm = MinMaxScaler().fit_transform(x)\n",
    "\n",
    "sel_ = SelectFromModel(Lasso(alpha=.0001, random_state=42)) \n",
    "sel_.fit(x_norm, y)"
   ]
  },
  {
   "cell_type": "code",
   "execution_count": 469,
   "metadata": {},
   "outputs": [],
   "source": [
    "selected_feat = x.columns[(sel_.get_support())]"
   ]
  },
  {
   "cell_type": "code",
   "execution_count": 471,
   "metadata": {},
   "outputs": [
    {
     "name": "stdout",
     "output_type": "stream",
     "text": [
      "total features: 45\n",
      "selected features: 35\n",
      "features with coefficients shrank to zero: 10\n"
     ]
    }
   ],
   "source": [
    "print('total features: {}'.format((x.shape[1])))\n",
    "print('selected features: {}'.format(len(selected_feat)))\n",
    "print('features with coefficients shrank to zero: {}'.format(\n",
    "    np.sum(sel_.estimator_.coef_ == 0)))"
   ]
  },
  {
   "cell_type": "code",
   "execution_count": 472,
   "metadata": {},
   "outputs": [],
   "source": [
    "x_model = x[selected_feat]\n"
   ]
  },
  {
   "cell_type": "code",
   "execution_count": 473,
   "metadata": {},
   "outputs": [],
   "source": [
    "from sklearn.model_selection import train_test_split\n",
    "X_train, X_test, y_train, y_test = train_test_split(x_model, y, test_size=0.3, random_state=42)"
   ]
  },
  {
   "cell_type": "code",
   "execution_count": 474,
   "metadata": {},
   "outputs": [],
   "source": [
    "from sklearn.metrics import mean_squared_error, explained_variance_score, r2_score"
   ]
  },
  {
   "cell_type": "code",
   "execution_count": 475,
   "metadata": {},
   "outputs": [],
   "source": [
    "def plot_prediction_analysis(y, y_pred, figsize=(10,4), title=''):\n",
    "    fig, axs = plt.subplots(1, 2, figsize=figsize)\n",
    "    axs[0].scatter(y, y_pred)\n",
    "    mn = min(np.min(y), np.min(y_pred))\n",
    "    mx = max(np.max(y), np.max(y_pred))\n",
    "    axs[0].plot([mn, mx], [mn, mx], c='red')\n",
    "    axs[0].set_xlabel('$y$')\n",
    "    axs[0].set_ylabel('$\\hat{y}$')\n",
    "    rmse = np.sqrt(mean_squared_error(y, y_pred))\n",
    "    evs = explained_variance_score(y, y_pred)\n",
    "    r2 = r2_score(y, y_pred)\n",
    "    axs[0].set_title('rmse = {:.2f}, evs = {:.2f}, r2 = {:,.2f}'.format(rmse, evs, r2))\n",
    "    \n",
    "    axs[1].hist(y-y_pred, bins=50)\n",
    "    avg = np.mean(y-y_pred)\n",
    "    std = np.std(y-y_pred)\n",
    "    axs[1].set_xlabel('$y - \\hat{y}$')\n",
    "    axs[1].set_title('Histrogram prediction error, $\\mu$ = {:.2f}, $\\sigma$ = {:.2f}'.format(avg, std))\n",
    "    \n",
    "    if title!='':\n",
    "        fig.suptitle(title)"
   ]
  },
  {
   "cell_type": "code",
   "execution_count": 476,
   "metadata": {},
   "outputs": [],
   "source": [
    "from sklearn.pipeline import Pipeline\n",
    "from sklearn.linear_model import Lasso\n",
    "from sklearn.preprocessing import StandardScaler, PolynomialFeatures"
   ]
  },
  {
   "cell_type": "code",
   "execution_count": 477,
   "metadata": {},
   "outputs": [],
   "source": [
    "model = Pipeline((\n",
    "        (\"standard_scaler\", StandardScaler()),\n",
    "        (\"poly\", PolynomialFeatures(degree=2)),\n",
    "        (\"lin_reg\", Lasso(alpha=0.01))\n",
    "    ))\n",
    "\n",
    "model.fit(X_train, y_train)\n",
    "\n",
    "y_train_pred = model.predict(X_train)"
   ]
  },
  {
   "cell_type": "code",
   "execution_count": 479,
   "metadata": {},
   "outputs": [
    {
     "data": {
      "text/plain": [
       "array([11.2879038 , 13.130823  , 12.11326145, ..., 14.21698102,\n",
       "       16.19892746, 11.09887369])"
      ]
     },
     "execution_count": 479,
     "metadata": {},
     "output_type": "execute_result"
    }
   ],
   "source": [
    "y_train_pred"
   ]
  },
  {
   "cell_type": "code",
   "execution_count": 480,
   "metadata": {},
   "outputs": [
    {
     "data": {
      "image/png": "[encoded data removed]",
      "text/plain": [
       "<Figure size 720x288 with 2 Axes>"
      ]
     },
     "metadata": {
      "needs_background": "light"
     },
     "output_type": "display_data"
    }
   ],
   "source": [
    "plot_prediction_analysis(y_train, y_train_pred, title='Polynomial Model - Trainingset')"
   ]
  },
  {
   "cell_type": "code",
   "execution_count": null,
   "metadata": {},
   "outputs": [],
   "source": []
  },
  {
   "cell_type": "code",
   "execution_count": null,
   "metadata": {},
   "outputs": [],
   "source": []
  },
  {
   "cell_type": "code",
   "execution_count": null,
   "metadata": {},
   "outputs": [],
   "source": []
  }
 ],
 "metadata": {
  "kernelspec": {
   "display_name": "Python 3",
   "language": "python",
   "name": "python3"
  },
  "language_info": {
   "codemirror_mode": {
    "name": "ipython",
    "version": 3
   },
   "file_extension": ".py",
   "mimetype": "text/x-python",
   "name": "python",
   "nbconvert_exporter": "python",
   "pygments_lexer": "ipython3",
   "version": "3.8.5"
  }
 },
 "nbformat": 4,
 "nbformat_minor": 4
}
