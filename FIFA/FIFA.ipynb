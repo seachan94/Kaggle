{
 "cells": [
  {
   "cell_type": "code",
   "execution_count": 302,
   "metadata": {},
   "outputs": [],
   "source": [
    "#Data Analaysis\n",
    "\n",
    "import numpy as np\n",
    "import pandas as pd\n",
    "\n",
    "# for Visualization\n",
    "\n",
    "import matplotlib.pyplot as plt\n",
    "import seaborn as sns\n",
    "import plotly.graph_objs as go\n",
    "import plotly.express as px\n",
    "\n",
    "import plotly.io as pio\n",
    "import warnings\n",
    "\n",
    "pio.renderers.default = 'iframe' # or 'notebook' or 'colab'\n",
    "warnings.simplefilter(action = 'ignore',category = Warning)\n",
    "%matplotlib inline"
   ]
  },
  {
   "cell_type": "code",
   "execution_count": 228,
   "metadata": {},
   "outputs": [],
   "source": [
    "data = pd.read_csv('data.csv',index_col = 0)"
   ]
  },
  {
   "cell_type": "code",
   "execution_count": 229,
   "metadata": {},
   "outputs": [
    {
     "name": "stdout",
     "output_type": "stream",
     "text": [
      "<class 'pandas.core.frame.DataFrame'>\n",
      "Int64Index: 18207 entries, 0 to 18206\n",
      "Data columns (total 88 columns):\n",
      " #   Column                    Non-Null Count  Dtype  \n",
      "---  ------                    --------------  -----  \n",
      " 0   ID                        18207 non-null  int64  \n",
      " 1   Name                      18207 non-null  object \n",
      " 2   Age                       18207 non-null  int64  \n",
      " 3   Photo                     18207 non-null  object \n",
      " 4   Nationality               18207 non-null  object \n",
      " 5   Flag                      18207 non-null  object \n",
      " 6   Overall                   18207 non-null  int64  \n",
      " 7   Potential                 18207 non-null  int64  \n",
      " 8   Club                      17966 non-null  object \n",
      " 9   Club Logo                 18207 non-null  object \n",
      " 10  Value                     18207 non-null  object \n",
      " 11  Wage                      18207 non-null  object \n",
      " 12  Special                   18207 non-null  int64  \n",
      " 13  Preferred Foot            18159 non-null  object \n",
      " 14  International Reputation  18159 non-null  float64\n",
      " 15  Weak Foot                 18159 non-null  float64\n",
      " 16  Skill Moves               18159 non-null  float64\n",
      " 17  Work Rate                 18159 non-null  object \n",
      " 18  Body Type                 18159 non-null  object \n",
      " 19  Real Face                 18159 non-null  object \n",
      " 20  Position                  18147 non-null  object \n",
      " 21  Jersey Number             18147 non-null  float64\n",
      " 22  Joined                    16654 non-null  object \n",
      " 23  Loaned From               1264 non-null   object \n",
      " 24  Contract Valid Until      17918 non-null  object \n",
      " 25  Height                    18159 non-null  object \n",
      " 26  Weight                    18159 non-null  object \n",
      " 27  LS                        16122 non-null  object \n",
      " 28  ST                        16122 non-null  object \n",
      " 29  RS                        16122 non-null  object \n",
      " 30  LW                        16122 non-null  object \n",
      " 31  LF                        16122 non-null  object \n",
      " 32  CF                        16122 non-null  object \n",
      " 33  RF                        16122 non-null  object \n",
      " 34  RW                        16122 non-null  object \n",
      " 35  LAM                       16122 non-null  object \n",
      " 36  CAM                       16122 non-null  object \n",
      " 37  RAM                       16122 non-null  object \n",
      " 38  LM                        16122 non-null  object \n",
      " 39  LCM                       16122 non-null  object \n",
      " 40  CM                        16122 non-null  object \n",
      " 41  RCM                       16122 non-null  object \n",
      " 42  RM                        16122 non-null  object \n",
      " 43  LWB                       16122 non-null  object \n",
      " 44  LDM                       16122 non-null  object \n",
      " 45  CDM                       16122 non-null  object \n",
      " 46  RDM                       16122 non-null  object \n",
      " 47  RWB                       16122 non-null  object \n",
      " 48  LB                        16122 non-null  object \n",
      " 49  LCB                       16122 non-null  object \n",
      " 50  CB                        16122 non-null  object \n",
      " 51  RCB                       16122 non-null  object \n",
      " 52  RB                        16122 non-null  object \n",
      " 53  Crossing                  18159 non-null  float64\n",
      " 54  Finishing                 18159 non-null  float64\n",
      " 55  HeadingAccuracy           18159 non-null  float64\n",
      " 56  ShortPassing              18159 non-null  float64\n",
      " 57  Volleys                   18159 non-null  float64\n",
      " 58  Dribbling                 18159 non-null  float64\n",
      " 59  Curve                     18159 non-null  float64\n",
      " 60  FKAccuracy                18159 non-null  float64\n",
      " 61  LongPassing               18159 non-null  float64\n",
      " 62  BallControl               18159 non-null  float64\n",
      " 63  Acceleration              18159 non-null  float64\n",
      " 64  SprintSpeed               18159 non-null  float64\n",
      " 65  Agility                   18159 non-null  float64\n",
      " 66  Reactions                 18159 non-null  float64\n",
      " 67  Balance                   18159 non-null  float64\n",
      " 68  ShotPower                 18159 non-null  float64\n",
      " 69  Jumping                   18159 non-null  float64\n",
      " 70  Stamina                   18159 non-null  float64\n",
      " 71  Strength                  18159 non-null  float64\n",
      " 72  LongShots                 18159 non-null  float64\n",
      " 73  Aggression                18159 non-null  float64\n",
      " 74  Interceptions             18159 non-null  float64\n",
      " 75  Positioning               18159 non-null  float64\n",
      " 76  Vision                    18159 non-null  float64\n",
      " 77  Penalties                 18159 non-null  float64\n",
      " 78  Composure                 18159 non-null  float64\n",
      " 79  Marking                   18159 non-null  float64\n",
      " 80  StandingTackle            18159 non-null  float64\n",
      " 81  SlidingTackle             18159 non-null  float64\n",
      " 82  GKDiving                  18159 non-null  float64\n",
      " 83  GKHandling                18159 non-null  float64\n",
      " 84  GKKicking                 18159 non-null  float64\n",
      " 85  GKPositioning             18159 non-null  float64\n",
      " 86  GKReflexes                18159 non-null  float64\n",
      " 87  Release Clause            16643 non-null  object \n",
      "dtypes: float64(38), int64(5), object(45)\n",
      "memory usage: 12.4+ MB\n"
     ]
    }
   ],
   "source": [
    "data.info()"
   ]
  },
  {
   "cell_type": "code",
   "execution_count": 230,
   "metadata": {},
   "outputs": [],
   "source": [
    "data.drop(['ID','Photo','Flag','Club Logo','Real Face','Jersey Number','Loaned From'],\n",
    "          axis=1,inplace=True)"
   ]
  },
  {
   "cell_type": "markdown",
   "metadata": {},
   "source": [
    "\n",
    "    평균과 중항값 케이스 확인\n",
    "    \n",
    "    평균 : 모든 관측값의 합을 자료의 개수로 나눈것\n",
    "    중앙값 : 전체 관측값을 크기 순서로 배열햇을 때 가운데 위치하는 값\n",
    "    \n",
    "    - 평균은 전체 관측값이 골구로 반영 되어있어 대표값으로서 가치가 있다.\n",
    "    -  평균 근처에 표본이 몰려 있는 상황에서 대표값으로 유용하지만 극단 적 값의 영향을 많이 받는다.\n",
    "    \n",
    "    - 중앙값에서 관측값을 크기 순서로 배열할 때 관측값의 위치가 중요하다.\n",
    "      가운데 위치한 관측값 이외의 관측값들의 크기는 중요하지 않다.\n",
    "      \n",
    "      평균과는 달리 중앙값은 관측값에 대해 민감하지 않고 outlier에 대한 영향을 받지 않는다.\n",
    "      \n",
    "      충앙값은 표본의 편차 혹은 왜곡이 심하게 나타나는 경우 유용하다.\n",
    "  \n"
   ]
  },
  {
   "cell_type": "code",
   "execution_count": 231,
   "metadata": {},
   "outputs": [],
   "source": [
    "data['International Reputation'].fillna(data['International Reputation'].mean(),inplace = True)\n",
    "data['Skill Moves'].fillna(data['Skill Moves'].mean,inplace = True)\n",
    "data['Weak Foot'].fillna(data['Weak Foot'].mean(), inplace = True)\n",
    "data['Crossing'].fillna(data['Crossing'].mean(), inplace = True)\n",
    "data['Finishing'].fillna(data['Finishing'].mean(), inplace = True)\n",
    "data['HeadingAccuracy'].fillna(data['HeadingAccuracy'].mean(), inplace = True)\n",
    "data['ShortPassing'].fillna(data['ShortPassing'].mean(), inplace = True)\n",
    "data['Volleys'].fillna(data['Volleys'].mean(), inplace = True)\n",
    "data['Dribbling'].fillna(data['Dribbling'].mean(), inplace = True)\n",
    "data['Curve'].fillna(data['Curve'].mean(), inplace = True) \n",
    "data['FKAccuracy'].fillna(data['FKAccuracy'].mean(), inplace = True)\n",
    "data['LongPassing'].fillna(data['LongPassing'].mean(), inplace = True)\n",
    "data['BallControl'].fillna(data['BallControl'].mean(), inplace = True)\n",
    "data['Acceleration'].fillna(data['Acceleration'].mean(), inplace = True)\n",
    "data['SprintSpeed'].fillna(data['SprintSpeed'].mean(), inplace = True)\n",
    "data['Agility'].fillna(data['Agility'].mean(), inplace = True)\n",
    "data['Reactions'].fillna(data['Reactions'].mean(), inplace = True)\n",
    "data['Balance'].fillna(data['Balance'].mean(), inplace = True)\n",
    "data['ShotPower'].fillna(data['ShotPower'].mean(), inplace = True)\n",
    "data['Jumping'].fillna(data['Jumping'].mean(), inplace = True)\n",
    "data['Stamina'].fillna(data['Stamina'].mean(), inplace = True)\n",
    "data['Strength'].fillna(data['Strength'].mean(), inplace = True)\n",
    "data['LongShots'].fillna(data['LongShots'].mean(), inplace = True)\n",
    "data['Aggression'].fillna(data['Aggression'].mean(), inplace = True)\n",
    "data['Interceptions'].fillna(data['Interceptions'].mean(), inplace = True)\n",
    "data['Positioning'].fillna(data['Positioning'].mean(), inplace = True)\n",
    "data['Vision'].fillna(data['Vision'].mean(), inplace = True)\n",
    "data['Penalties'].fillna(data['Penalties'].mean(), inplace = True)\n",
    "data['Composure'].fillna(data['Composure'].mean(), inplace = True)\n",
    "data['Marking'].fillna(data['Marking'].mean(), inplace = True)\n",
    "data['StandingTackle'].fillna(data['StandingTackle'].mean(), inplace = True)\n",
    "data['SlidingTackle'].fillna(data['SlidingTackle'].mean(), inplace = True)\n",
    "data['GKDiving'].fillna(data['GKDiving'].mean(), inplace = True)\n",
    "data['GKHandling'].fillna(data['GKHandling'].mean(), inplace = True)\n",
    "data['GKKicking'].fillna(data['GKKicking'].mean(), inplace = True)\n",
    "data['GKPositioning'].fillna(data['GKPositioning'].mean(), inplace = True)\n",
    "data['GKReflexes'].fillna(data['GKReflexes'].mean(), inplace = True)"
   ]
  },
  {
   "cell_type": "code",
   "execution_count": 232,
   "metadata": {},
   "outputs": [],
   "source": [
    "'''\n",
    "isinstance(Value,type) = Value가 type형인지 확인한다.\n",
    "'''\n",
    "\n",
    "def value_and_wage_conversion(Value):\n",
    "    if isinstance(Value,str):\n",
    "        out = Value.replace('€', '')\n",
    "        \n",
    "        if 'M' in out:\n",
    "            out = float(out.replace('M',''))*1000000\n",
    "            \n",
    "        elif 'K' in Value:\n",
    "            out = float(out.replace('K',''))*1000\n",
    "        return float(out)\n",
    "                            "
   ]
  },
  {
   "cell_type": "code",
   "execution_count": 233,
   "metadata": {},
   "outputs": [],
   "source": [
    "data['Value'] = data['Value'].apply(\n",
    "    lambda x : value_and_wage_conversion(x)\n",
    "    )\n",
    "\n",
    "data['Wage'] = data['Wage'].apply(\n",
    "    lambda x : value_and_wage_conversion(x)\n",
    "    )\n",
    "\n",
    "data['Release Clause'] = data['Release Clause'].apply(\n",
    "    lambda x : value_and_wage_conversion(x)\n",
    "    )"
   ]
  },
  {
   "cell_type": "code",
   "execution_count": 234,
   "metadata": {},
   "outputs": [],
   "source": [
    "data['Release Clause'].fillna(data['Release Clause'].mean(),inplace=True)"
   ]
  },
  {
   "cell_type": "code",
   "execution_count": 235,
   "metadata": {},
   "outputs": [],
   "source": [
    "#Categorical Columns\n",
    "\n",
    "data['Club'].fillna('No Club',inplace = True)\n",
    "data['Position'].fillna('unknown',inplace = True)"
   ]
  },
  {
   "cell_type": "code",
   "execution_count": 236,
   "metadata": {},
   "outputs": [
    {
     "data": {
      "text/plain": [
       "0         Jul 1, 2004\n",
       "1        Jul 10, 2018\n",
       "2         Aug 3, 2017\n",
       "3         Jul 1, 2011\n",
       "4        Aug 30, 2015\n",
       "             ...     \n",
       "18202     May 3, 2017\n",
       "18203    Mar 19, 2018\n",
       "18204     Jul 1, 2017\n",
       "18205    Apr 24, 2018\n",
       "18206    Oct 30, 2018\n",
       "Name: Joined, Length: 18207, dtype: object"
      ]
     },
     "execution_count": 236,
     "metadata": {},
     "output_type": "execute_result"
    }
   ],
   "source": [
    "data['Joined']"
   ]
  },
  {
   "cell_type": "code",
   "execution_count": 237,
   "metadata": {},
   "outputs": [
    {
     "data": {
      "text/plain": [
       "['Aug 3', '2017']"
      ]
     },
     "execution_count": 237,
     "metadata": {},
     "output_type": "execute_result"
    }
   ],
   "source": [
    "data['Joined'][2].split(\", \")"
   ]
  },
  {
   "cell_type": "code",
   "execution_count": 238,
   "metadata": {},
   "outputs": [],
   "source": [
    "def setform_date(x):\n",
    "    \n",
    "    check_list = list()\n",
    "    if isinstance(x,str):\n",
    "        check_list = x.split(\", \")\n",
    "        x = check_list[-1]\n",
    "    return x"
   ]
  },
  {
   "cell_type": "code",
   "execution_count": 239,
   "metadata": {},
   "outputs": [],
   "source": [
    "data['Joined'] = data['Joined'].replace(np.nan ,0)"
   ]
  },
  {
   "cell_type": "code",
   "execution_count": 240,
   "metadata": {},
   "outputs": [],
   "source": [
    "data['Joined'] = data['Joined'].apply(setform_date).astype('str')"
   ]
  },
  {
   "cell_type": "code",
   "execution_count": null,
   "metadata": {},
   "outputs": [],
   "source": []
  },
  {
   "cell_type": "code",
   "execution_count": 241,
   "metadata": {},
   "outputs": [],
   "source": [
    "import datetime\n",
    "\n",
    "data['Contract Valid Until'] = pd.to_datetime(data['Contract Valid Until'])"
   ]
  },
  {
   "cell_type": "code",
   "execution_count": 242,
   "metadata": {},
   "outputs": [],
   "source": [
    "data['year'] = pd.DatetimeIndex(data['Contract Valid Until']).year.astype(str)\n",
    "data['Contract Valid Until'].fillna('Not abailable',inplace = True)"
   ]
  },
  {
   "cell_type": "code",
   "execution_count": 243,
   "metadata": {},
   "outputs": [],
   "source": [
    "def clean_height(x):\n",
    "    check_list = list()\n",
    "    val = 1\n",
    "    if isinstance(x,str):\n",
    "        check_list = x.split(\"'\")\n",
    "        first = int(check_list[0])\n",
    "        second = int(check_list[1])\n",
    "        \n",
    "        val = ((first*12)+second)/12\n",
    "       \n",
    "    return val"
   ]
  },
  {
   "cell_type": "code",
   "execution_count": 244,
   "metadata": {},
   "outputs": [],
   "source": [
    "data['Height'] = data['Height'].apply(lambda x :clean_height(x))"
   ]
  },
  {
   "cell_type": "code",
   "execution_count": 245,
   "metadata": {},
   "outputs": [],
   "source": [
    "data['Height'].fillna(data['Height'].mean(),inplace=True)"
   ]
  },
  {
   "cell_type": "code",
   "execution_count": 246,
   "metadata": {},
   "outputs": [],
   "source": [
    "def clean_weight(x):\n",
    "    \n",
    "    if isinstance(x,str):\n",
    "        return x.replace('lbs','')"
   ]
  },
  {
   "cell_type": "code",
   "execution_count": 247,
   "metadata": {},
   "outputs": [],
   "source": [
    "data['Weight'] = data['Weight'].apply(\n",
    "    lambda x : clean_weight(x)\n",
    ")\n"
   ]
  },
  {
   "cell_type": "code",
   "execution_count": 248,
   "metadata": {},
   "outputs": [
    {
     "data": {
      "text/plain": [
       "<AxesSubplot:xlabel='Weight', ylabel='Density'>"
      ]
     },
     "execution_count": 248,
     "metadata": {},
     "output_type": "execute_result"
    },
    {
     "data": {
      "image/png": "[encoded data removed]",
      "text/plain": [
       "<Figure size 432x288 with 1 Axes>"
      ]
     },
     "metadata": {
      "needs_background": "light"
     },
     "output_type": "display_data"
    }
   ],
   "source": [
    "sns.distplot(data['Weight'])"
   ]
  },
  {
   "cell_type": "code",
   "execution_count": 249,
   "metadata": {},
   "outputs": [],
   "source": [
    "data['Weight'].fillna(data['Weight'],inplace=True)"
   ]
  },
  {
   "cell_type": "code",
   "execution_count": 250,
   "metadata": {},
   "outputs": [
    {
     "data": {
      "text/plain": [
       "Medium/ Medium    9810\n",
       "High/ Medium      3173\n",
       "Medium/ High      1690\n",
       "High/ High        1015\n",
       "Medium/ Low        850\n",
       "High/ Low          699\n",
       "Low/ Medium        449\n",
       "Low/ High          439\n",
       "Low/ Low            34\n",
       "Name: Work Rate, dtype: int64"
      ]
     },
     "execution_count": 250,
     "metadata": {},
     "output_type": "execute_result"
    }
   ],
   "source": [
    "data['Work Rate'].value_counts()"
   ]
  },
  {
   "cell_type": "code",
   "execution_count": 251,
   "metadata": {},
   "outputs": [],
   "source": [
    "#최빈값으로 채움\n",
    "data['Work Rate'].fillna('Medium/ Medium',inplace = True)"
   ]
  },
  {
   "cell_type": "code",
   "execution_count": 252,
   "metadata": {},
   "outputs": [
    {
     "data": {
      "text/plain": [
       "Right    13948\n",
       "Left      4211\n",
       "Name: Preferred Foot, dtype: int64"
      ]
     },
     "execution_count": 252,
     "metadata": {},
     "output_type": "execute_result"
    }
   ],
   "source": [
    "data['Preferred Foot'].value_counts()"
   ]
  },
  {
   "cell_type": "code",
   "execution_count": 253,
   "metadata": {},
   "outputs": [],
   "source": [
    "data['Preferred Foot'].fillna('Right',inplace = True)"
   ]
  },
  {
   "cell_type": "code",
   "execution_count": 254,
   "metadata": {},
   "outputs": [
    {
     "data": {
      "text/plain": [
       "Normal                 10595\n",
       "Lean                    6417\n",
       "Stocky                  1140\n",
       "Messi                      1\n",
       "Courtois                   1\n",
       "Shaqiri                    1\n",
       "Akinfenwa                  1\n",
       "C. Ronaldo                 1\n",
       "PLAYER_BODY_TYPE_25        1\n",
       "Neymar                     1\n",
       "Name: Body Type, dtype: int64"
      ]
     },
     "execution_count": 254,
     "metadata": {},
     "output_type": "execute_result"
    }
   ],
   "source": [
    "data['Body Type'].value_counts()"
   ]
  },
  {
   "cell_type": "code",
   "execution_count": 255,
   "metadata": {},
   "outputs": [],
   "source": [
    "\n",
    "data['Body Type'][data['Body Type'] == 'Neymar'] = 'Lean'\n",
    "data['Body Type'][data['Body Type'] == 'Courtois'] = 'Lean'\n",
    "data['Body Type'][data['Body Type'] == 'C. Ronaldo'] = 'Normal'\n",
    "\n"
   ]
  },
  {
   "cell_type": "code",
   "execution_count": 256,
   "metadata": {},
   "outputs": [],
   "source": [
    "data['Body Type'][data['Body Type'] == 'PLAYER_BODY_TYPE_25'] = 'Normal'\n",
    "data['Body Type'][data['Body Type'] == 'Shaqiri'] = 'Stocky'\n",
    "data['Body Type'][data['Body Type'] == 'Akinfenwa'] = 'Stocky'\n",
    "data['Body Type'][data['Body Type'] == 'Messi'] = 'Stocky'"
   ]
  },
  {
   "cell_type": "code",
   "execution_count": 257,
   "metadata": {},
   "outputs": [],
   "source": [
    "data['Body Type'].fillna('Normal',inplace = True)"
   ]
  },
  {
   "cell_type": "code",
   "execution_count": 258,
   "metadata": {},
   "outputs": [
    {
     "data": {
      "text/plain": [
       "'93+2'"
      ]
     },
     "execution_count": 258,
     "metadata": {},
     "output_type": "execute_result"
    }
   ],
   "source": [
    "data['CAM'][0]"
   ]
  },
  {
   "cell_type": "code",
   "execution_count": 259,
   "metadata": {},
   "outputs": [],
   "source": [
    "def skillConverter(val):\n",
    "    if isinstance(val,str):\n",
    "        \n",
    "        if val is 'Normal':\n",
    "            return val\n",
    "        \n",
    "        first = val[0:2]\n",
    "        second = val[-1]\n",
    "        val = int(first)+int(second)\n",
    "        return val\n",
    "    else:\n",
    "        return val"
   ]
  },
  {
   "cell_type": "code",
   "execution_count": 260,
   "metadata": {},
   "outputs": [],
   "source": [
    "skill_columns = ['LS', 'ST', 'RS', 'LW', 'LF', 'CF', 'RF', 'RW', 'LAM', 'CAM',\n",
    "       'RAM', 'LM', 'LCM', 'CM', 'RCM', 'RM', 'LWB', 'LDM', 'CDM', 'RDM',\n",
    "       'RWB', 'LB', 'LCB', 'CB', 'RCB', 'RB']"
   ]
  },
  {
   "cell_type": "code",
   "execution_count": null,
   "metadata": {},
   "outputs": [],
   "source": []
  },
  {
   "cell_type": "code",
   "execution_count": 261,
   "metadata": {},
   "outputs": [],
   "source": [
    "for col in skill_columns:\n",
    "    data[col] = data[col].apply(skillConverter)\n",
    "    data[col].fillna(0.0,inplace = True)"
   ]
  },
  {
   "cell_type": "code",
   "execution_count": 296,
   "metadata": {},
   "outputs": [],
   "source": [
    "def pie_count(check_data, field, percent_limit = 0.5,title = \"Number of players by \"):\n",
    "    title += field\n",
    "    \n",
    "    check_data = check_data[field].value_counts().to_frame()\n",
    "    \n",
    "    total = check_data[field].sum()\n",
    "    check_data['percentage'] =100*check_data[field]/total\n",
    "    \n",
    "    otherdata = check_data[check_data['percentage']<percent_limit]\n",
    "    others = otherdata['percentage'].sum()\n",
    "    maindata = check_data[check_data['percentage']>=percent_limit]\n",
    "    \n",
    "    check_data = maindata\n",
    "    other_label = 'Other(<' + str(percent_limit) +\"% each)\"\n",
    "    \n",
    "    check_data.loc[other_label] = pd.Series({field:otherdata[field].sum()})\n",
    "    \n",
    "    labels = check_data.index.tolist()\n",
    "    datavals = check_data[field].tolist()\n",
    "    \n",
    "    trace = go.Pie(\n",
    "        labels = labels,\n",
    "        values = datavals\n",
    "    )\n",
    "    \n",
    "    layout = go.Layout(\n",
    "        title = title,\n",
    "        height = 700\n",
    "    )\n",
    "   \n",
    "    fig = go.Figure(data=[trace],layout = layout)\n",
    "    fig.show()\n",
    "    \n",
    "    "
   ]
  },
  {
   "cell_type": "code",
   "execution_count": 301,
   "metadata": {},
   "outputs": [
    {
     "data": {
      "text/html": [
       "<iframe\n",
       "    scrolling=\"no\"\n",
       "    width=\"100%\"\n",
       "    height=\"720\"\n",
       "    src=\"iframe_figures/figure_301.html\"\n",
       "    frameborder=\"0\"\n",
       "    allowfullscreen\n",
       "></iframe>\n"
      ]
     },
     "metadata": {},
     "output_type": "display_data"
    }
   ],
   "source": [
    "\n",
    "pie_count(data,'Position',0.1)"
   ]
  },
  {
   "cell_type": "code",
   "execution_count": null,
   "metadata": {},
   "outputs": [],
   "source": [
    "ch['LS'].value_counts()"
   ]
  },
  {
   "cell_type": "code",
   "execution_count": null,
   "metadata": {},
   "outputs": [],
   "source": []
  }
 ],
 "metadata": {
  "kernelspec": {
   "display_name": "Python 3",
   "language": "python",
   "name": "python3"
  },
  "language_info": {
   "codemirror_mode": {
    "name": "ipython",
    "version": 3
   },
   "file_extension": ".py",
   "mimetype": "text/x-python",
   "name": "python",
   "nbconvert_exporter": "python",
   "pygments_lexer": "ipython3",
   "version": "3.8.5"
  }
 },
 "nbformat": 4,
 "nbformat_minor": 4
}
