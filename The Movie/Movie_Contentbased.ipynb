{
 "cells": [
  {
   "cell_type": "code",
   "execution_count": 1,
   "metadata": {},
   "outputs": [],
   "source": [
    "import pandas as pd"
   ]
  },
  {
   "cell_type": "code",
   "execution_count": 33,
   "metadata": {},
   "outputs": [
    {
     "name": "stderr",
     "output_type": "stream",
     "text": [
      "C:\\Users\\KTDS\\anaconda3\\lib\\site-packages\\IPython\\core\\interactiveshell.py:3146: DtypeWarning: Columns (10) have mixed types.Specify dtype option on import or set low_memory=False.\n",
      "  has_raised = await self.run_ast_nodes(code_ast.body, cell_name,\n"
     ]
    }
   ],
   "source": [
    "path = 'archive/'\n",
    "data = pd.read_csv(path+'movies_metadata.csv')"
   ]
  },
  {
   "cell_type": "code",
   "execution_count": null,
   "metadata": {},
   "outputs": [],
   "source": []
  },
  {
   "cell_type": "code",
   "execution_count": 24,
   "metadata": {},
   "outputs": [
    {
     "data": {
      "text/plain": [
       "Index(['adult', 'belongs_to_collection', 'budget', 'genres', 'homepage', 'id',\n",
       "       'imdb_id', 'original_language', 'original_title', 'overview',\n",
       "       'popularity', 'poster_path', 'production_companies',\n",
       "       'production_countries', 'release_date', 'revenue', 'runtime',\n",
       "       'spoken_languages', 'status', 'tagline', 'title', 'video',\n",
       "       'vote_average', 'vote_count'],\n",
       "      dtype='object')"
      ]
     },
     "execution_count": 24,
     "metadata": {},
     "output_type": "execute_result"
    }
   ],
   "source": [
    "data.columns"
   ]
  },
  {
   "cell_type": "code",
   "execution_count": 38,
   "metadata": {},
   "outputs": [],
   "source": [
    "data = data[['id','genres','vote_average','vote_count','popularity','title','overview']]"
   ]
  },
  {
   "cell_type": "code",
   "execution_count": 39,
   "metadata": {},
   "outputs": [],
   "source": [
    "#불공정 데이터 처리\n",
    "m = data['vote_count'].quantile(0.9)"
   ]
  },
  {
   "cell_type": "code",
   "execution_count": 27,
   "metadata": {},
   "outputs": [
    {
     "data": {
      "text/html": [
       "<div>\n",
       "<style scoped>\n",
       "    .dataframe tbody tr th:only-of-type {\n",
       "        vertical-align: middle;\n",
       "    }\n",
       "\n",
       "    .dataframe tbody tr th {\n",
       "        vertical-align: top;\n",
       "    }\n",
       "\n",
       "    .dataframe thead th {\n",
       "        text-align: right;\n",
       "    }\n",
       "</style>\n",
       "<table border=\"1\" class=\"dataframe\">\n",
       "  <thead>\n",
       "    <tr style=\"text-align: right;\">\n",
       "      <th></th>\n",
       "      <th>id</th>\n",
       "      <th>genres</th>\n",
       "      <th>vote_average</th>\n",
       "      <th>vote_count</th>\n",
       "      <th>popularity</th>\n",
       "      <th>title</th>\n",
       "      <th>overview</th>\n",
       "    </tr>\n",
       "  </thead>\n",
       "  <tbody>\n",
       "    <tr>\n",
       "      <th>0</th>\n",
       "      <td>862</td>\n",
       "      <td>[{'id': 16, 'name': 'Animation'}, {'id': 35, '...</td>\n",
       "      <td>7.7</td>\n",
       "      <td>5415.0</td>\n",
       "      <td>21.9469</td>\n",
       "      <td>Toy Story</td>\n",
       "      <td>Led by Woody, Andy's toys live happily in his ...</td>\n",
       "    </tr>\n",
       "    <tr>\n",
       "      <th>1</th>\n",
       "      <td>8844</td>\n",
       "      <td>[{'id': 12, 'name': 'Adventure'}, {'id': 14, '...</td>\n",
       "      <td>6.9</td>\n",
       "      <td>2413.0</td>\n",
       "      <td>17.0155</td>\n",
       "      <td>Jumanji</td>\n",
       "      <td>When siblings Judy and Peter discover an encha...</td>\n",
       "    </tr>\n",
       "    <tr>\n",
       "      <th>2</th>\n",
       "      <td>15602</td>\n",
       "      <td>[{'id': 10749, 'name': 'Romance'}, {'id': 35, ...</td>\n",
       "      <td>6.5</td>\n",
       "      <td>92.0</td>\n",
       "      <td>11.7129</td>\n",
       "      <td>Grumpier Old Men</td>\n",
       "      <td>A family wedding reignites the ancient feud be...</td>\n",
       "    </tr>\n",
       "    <tr>\n",
       "      <th>3</th>\n",
       "      <td>31357</td>\n",
       "      <td>[{'id': 35, 'name': 'Comedy'}, {'id': 18, 'nam...</td>\n",
       "      <td>6.1</td>\n",
       "      <td>34.0</td>\n",
       "      <td>3.85949</td>\n",
       "      <td>Waiting to Exhale</td>\n",
       "      <td>Cheated on, mistreated and stepped on, the wom...</td>\n",
       "    </tr>\n",
       "    <tr>\n",
       "      <th>4</th>\n",
       "      <td>11862</td>\n",
       "      <td>[{'id': 35, 'name': 'Comedy'}]</td>\n",
       "      <td>5.7</td>\n",
       "      <td>173.0</td>\n",
       "      <td>8.38752</td>\n",
       "      <td>Father of the Bride Part II</td>\n",
       "      <td>Just when George Banks has recovered from his ...</td>\n",
       "    </tr>\n",
       "    <tr>\n",
       "      <th>...</th>\n",
       "      <td>...</td>\n",
       "      <td>...</td>\n",
       "      <td>...</td>\n",
       "      <td>...</td>\n",
       "      <td>...</td>\n",
       "      <td>...</td>\n",
       "      <td>...</td>\n",
       "    </tr>\n",
       "    <tr>\n",
       "      <th>45461</th>\n",
       "      <td>439050</td>\n",
       "      <td>[{'id': 18, 'name': 'Drama'}, {'id': 10751, 'n...</td>\n",
       "      <td>4.0</td>\n",
       "      <td>1.0</td>\n",
       "      <td>0.072051</td>\n",
       "      <td>Subdue</td>\n",
       "      <td>Rising and falling between a man and woman.</td>\n",
       "    </tr>\n",
       "    <tr>\n",
       "      <th>45462</th>\n",
       "      <td>111109</td>\n",
       "      <td>[{'id': 18, 'name': 'Drama'}]</td>\n",
       "      <td>9.0</td>\n",
       "      <td>3.0</td>\n",
       "      <td>0.178241</td>\n",
       "      <td>Century of Birthing</td>\n",
       "      <td>An artist struggles to finish his work while a...</td>\n",
       "    </tr>\n",
       "    <tr>\n",
       "      <th>45463</th>\n",
       "      <td>67758</td>\n",
       "      <td>[{'id': 28, 'name': 'Action'}, {'id': 18, 'nam...</td>\n",
       "      <td>3.8</td>\n",
       "      <td>6.0</td>\n",
       "      <td>0.903007</td>\n",
       "      <td>Betrayal</td>\n",
       "      <td>When one of her hits goes wrong, a professiona...</td>\n",
       "    </tr>\n",
       "    <tr>\n",
       "      <th>45464</th>\n",
       "      <td>227506</td>\n",
       "      <td>[]</td>\n",
       "      <td>0.0</td>\n",
       "      <td>0.0</td>\n",
       "      <td>0.003503</td>\n",
       "      <td>Satan Triumphant</td>\n",
       "      <td>In a small town live two brothers, one a minis...</td>\n",
       "    </tr>\n",
       "    <tr>\n",
       "      <th>45465</th>\n",
       "      <td>461257</td>\n",
       "      <td>[]</td>\n",
       "      <td>0.0</td>\n",
       "      <td>0.0</td>\n",
       "      <td>0.163015</td>\n",
       "      <td>Queerama</td>\n",
       "      <td>50 years after decriminalisation of homosexual...</td>\n",
       "    </tr>\n",
       "  </tbody>\n",
       "</table>\n",
       "<p>45466 rows × 7 columns</p>\n",
       "</div>"
      ],
      "text/plain": [
       "           id                                             genres  \\\n",
       "0         862  [{'id': 16, 'name': 'Animation'}, {'id': 35, '...   \n",
       "1        8844  [{'id': 12, 'name': 'Adventure'}, {'id': 14, '...   \n",
       "2       15602  [{'id': 10749, 'name': 'Romance'}, {'id': 35, ...   \n",
       "3       31357  [{'id': 35, 'name': 'Comedy'}, {'id': 18, 'nam...   \n",
       "4       11862                     [{'id': 35, 'name': 'Comedy'}]   \n",
       "...       ...                                                ...   \n",
       "45461  439050  [{'id': 18, 'name': 'Drama'}, {'id': 10751, 'n...   \n",
       "45462  111109                      [{'id': 18, 'name': 'Drama'}]   \n",
       "45463   67758  [{'id': 28, 'name': 'Action'}, {'id': 18, 'nam...   \n",
       "45464  227506                                                 []   \n",
       "45465  461257                                                 []   \n",
       "\n",
       "       vote_average  vote_count popularity                        title  \\\n",
       "0               7.7      5415.0    21.9469                    Toy Story   \n",
       "1               6.9      2413.0    17.0155                      Jumanji   \n",
       "2               6.5        92.0    11.7129             Grumpier Old Men   \n",
       "3               6.1        34.0    3.85949            Waiting to Exhale   \n",
       "4               5.7       173.0    8.38752  Father of the Bride Part II   \n",
       "...             ...         ...        ...                          ...   \n",
       "45461           4.0         1.0   0.072051                       Subdue   \n",
       "45462           9.0         3.0   0.178241          Century of Birthing   \n",
       "45463           3.8         6.0   0.903007                     Betrayal   \n",
       "45464           0.0         0.0   0.003503             Satan Triumphant   \n",
       "45465           0.0         0.0   0.163015                     Queerama   \n",
       "\n",
       "                                                overview  \n",
       "0      Led by Woody, Andy's toys live happily in his ...  \n",
       "1      When siblings Judy and Peter discover an encha...  \n",
       "2      A family wedding reignites the ancient feud be...  \n",
       "3      Cheated on, mistreated and stepped on, the wom...  \n",
       "4      Just when George Banks has recovered from his ...  \n",
       "...                                                  ...  \n",
       "45461        Rising and falling between a man and woman.  \n",
       "45462  An artist struggles to finish his work while a...  \n",
       "45463  When one of her hits goes wrong, a professiona...  \n",
       "45464  In a small town live two brothers, one a minis...  \n",
       "45465  50 years after decriminalisation of homosexual...  \n",
       "\n",
       "[45466 rows x 7 columns]"
      ]
     },
     "execution_count": 27,
     "metadata": {},
     "output_type": "execute_result"
    }
   ],
   "source": [
    "data"
   ]
  },
  {
   "cell_type": "code",
   "execution_count": 40,
   "metadata": {},
   "outputs": [],
   "source": [
    "data = data.loc[data['vote_count']>=m]"
   ]
  },
  {
   "cell_type": "code",
   "execution_count": 43,
   "metadata": {},
   "outputs": [],
   "source": [
    "C = data['vote_average'].mean()"
   ]
  },
  {
   "cell_type": "code",
   "execution_count": 37,
   "metadata": {},
   "outputs": [
    {
     "data": {
      "text/plain": [
       "count    45460.000000\n",
       "mean         5.618207\n",
       "std          1.924216\n",
       "min          0.000000\n",
       "25%          5.000000\n",
       "50%          6.000000\n",
       "75%          6.800000\n",
       "max         10.000000\n",
       "Name: vote_average, dtype: float64"
      ]
     },
     "execution_count": 37,
     "metadata": {},
     "output_type": "execute_result"
    }
   ],
   "source": [
    "data['vote_average'].describe()"
   ]
  },
  {
   "cell_type": "code",
   "execution_count": 44,
   "metadata": {},
   "outputs": [],
   "source": [
    "def weighted_rating(x, m = m, C = C):\n",
    "    v = x['vote_count']\n",
    "    R = x['vote_average']\n",
    "    return (v /(v+m)*R) +(m /(m+v)*C)"
   ]
  },
  {
   "cell_type": "code",
   "execution_count": 47,
   "metadata": {},
   "outputs": [],
   "source": [
    "data['score'] = data.apply(\n",
    "    lambda x : weighted_rating(x),\n",
    "    axis = 1\n",
    ")"
   ]
  },
  {
   "cell_type": "code",
   "execution_count": 61,
   "metadata": {},
   "outputs": [],
   "source": [
    "from ast import literal_eval\n",
    "\n",
    "\n",
    "def safe_literal_eval(node):\n",
    "    try:\n",
    "        return literal_eval(node)\n",
    "    except ValueError:\n",
    "        print(node)\n",
    "        return node \n",
    "\n",
    "data['genres'] = data['genres'].apply(\n",
    "    lambda x : safe_literal_eval(x)\n",
    ")"
   ]
  },
  {
   "cell_type": "code",
   "execution_count": 68,
   "metadata": {},
   "outputs": [],
   "source": [
    "data['genres'] = data['genres'].apply(\n",
    "    lambda x: [d['name'] for d in x]\n",
    ")"
   ]
  },
  {
   "cell_type": "code",
   "execution_count": 71,
   "metadata": {},
   "outputs": [],
   "source": [
    "data['genres'] = data['genres'].apply(\n",
    "    lambda x: \" \".join(x)\n",
    ")"
   ]
  },
  {
   "cell_type": "code",
   "execution_count": 81,
   "metadata": {},
   "outputs": [],
   "source": [
    "from sklearn.feature_extraction.text import CountVectorizer\n",
    "from sklearn.metrics.pairwise import cosine_similarity\n",
    "count_vector = CountVectorizer(ngram_range=(1,3))"
   ]
  },
  {
   "cell_type": "code",
   "execution_count": 77,
   "metadata": {},
   "outputs": [],
   "source": [
    "c_vector_genres = count_vector.fit_transform(data['genres'])"
   ]
  },
  {
   "cell_type": "code",
   "execution_count": 79,
   "metadata": {},
   "outputs": [
    {
     "data": {
      "text/plain": [
       "(4555, 1053)"
      ]
     },
     "execution_count": 79,
     "metadata": {},
     "output_type": "execute_result"
    }
   ],
   "source": [
    "c_vector_genres.shape"
   ]
  },
  {
   "cell_type": "code",
   "execution_count": 82,
   "metadata": {},
   "outputs": [],
   "source": [
    "gerne_c_sim = cosine_similarity(c_vector_genres,c_vector_genres).argsort()[:,::-1]"
   ]
  },
  {
   "cell_type": "code",
   "execution_count": 101,
   "metadata": {},
   "outputs": [],
   "source": [
    "data = data.reset_index(drop =False)"
   ]
  },
  {
   "cell_type": "code",
   "execution_count": 118,
   "metadata": {},
   "outputs": [],
   "source": [
    "def get_recommend_moive_list(df, movie_title, top = 30):\n",
    "\n",
    "    target_moive_index = df[df['title']== movie_title] .index.values\n",
    "\n",
    "    sim_index = gerne_c_sim[target_moive_index, : top].reshape(-1)\n",
    "\n",
    "    sim_index = sim_index[sim_index != target_moive_index]\n",
    "\n",
    "    result = df.iloc[sim_index].sort_values('score',ascending = False)[:10]\n",
    "  \n",
    "    return result"
   ]
  },
  {
   "cell_type": "code",
   "execution_count": 119,
   "metadata": {},
   "outputs": [],
   "source": [
    "recommand_movie = get_recommend_moive_list(data,movie_title = 'The Dark Knight Rises')"
   ]
  },
  {
   "cell_type": "code",
   "execution_count": null,
   "metadata": {},
   "outputs": [],
   "source": [
    "data"
   ]
  }
 ],
 "metadata": {
  "kernelspec": {
   "display_name": "Python 3",
   "language": "python",
   "name": "python3"
  },
  "language_info": {
   "codemirror_mode": {
    "name": "ipython",
    "version": 3
   },
   "file_extension": ".py",
   "mimetype": "text/x-python",
   "name": "python",
   "nbconvert_exporter": "python",
   "pygments_lexer": "ipython3",
   "version": "3.8.5"
  }
 },
 "nbformat": 4,
 "nbformat_minor": 4
}
