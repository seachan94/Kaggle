{
 "cells": [
  {
   "cell_type": "code",
   "execution_count": 1,
   "metadata": {},
   "outputs": [],
   "source": [
    "import pandas as pd"
   ]
  },
  {
   "cell_type": "code",
   "execution_count": 56,
   "metadata": {},
   "outputs": [
    {
     "name": "stderr",
     "output_type": "stream",
     "text": [
      "C:\\Users\\KTDS\\anaconda3\\lib\\site-packages\\IPython\\core\\interactiveshell.py:3146: DtypeWarning: Columns (10) have mixed types.Specify dtype option on import or set low_memory=False.\n",
      "  has_raised = await self.run_ast_nodes(code_ast.body, cell_name,\n"
     ]
    }
   ],
   "source": [
    "#load data\n",
    "rating_data= pd.read_csv('archive/ratings.csv')\n",
    "movie_data = pd.read_csv('archive/movies_metadata.csv')"
   ]
  },
  {
   "cell_type": "code",
   "execution_count": 57,
   "metadata": {},
   "outputs": [],
   "source": [
    "rating_data.drop('timestamp',axis = 1,inplace = True)\n"
   ]
  },
  {
   "cell_type": "code",
   "execution_count": 58,
   "metadata": {},
   "outputs": [],
   "source": [
    "rating_data['id'] = rating_data['movieId']\n",
    "rating_data.drop('movieId',axis = 1, inplace = True)"
   ]
  },
  {
   "cell_type": "code",
   "execution_count": 59,
   "metadata": {},
   "outputs": [],
   "source": [
    "def index_strange_id(df):\n",
    "    index = []\n",
    "    for idx in range(df.shape[0]):\n",
    "        try:\n",
    "            pd.to_numeric(df['id'][idx])\n",
    "        except ValueError:\n",
    "            index.append(idx)\n",
    "        \n",
    "    return index"
   ]
  },
  {
   "cell_type": "code",
   "execution_count": 60,
   "metadata": {},
   "outputs": [],
   "source": [
    "strange_index = index_strange_id(movie_data)\n",
    "\n",
    "movie_data.drop(index = strange_index, axis = 0,inplace = True)\n",
    "movie_data['id'] = pd.to_numeric(movie_data['id'])"
   ]
  },
  {
   "cell_type": "code",
   "execution_count": 65,
   "metadata": {},
   "outputs": [],
   "source": [
    "movies = movie_data[[\"id\",\"genres\",\"title\"]]"
   ]
  },
  {
   "cell_type": "code",
   "execution_count": 66,
   "metadata": {},
   "outputs": [],
   "source": [
    "\n",
    "user_movie_rating = pd.merge(rating_data,movies, on = 'id')"
   ]
  },
  {
   "cell_type": "code",
   "execution_count": 73,
   "metadata": {},
   "outputs": [],
   "source": [
    "from ast import literal_eval\n",
    "def safe_literal_eval(node):\n",
    "    try:\n",
    "        return literal_eval(node)\n",
    "    except ValueError:\n",
    "        print(node)\n",
    "        return node "
   ]
  },
  {
   "cell_type": "code",
   "execution_count": 82,
   "metadata": {},
   "outputs": [],
   "source": [
    "sampling = user_movie_rating[:150000]\n",
    "#데이터가 너무 많으므로 150000개만 sampling 하여 진행\n",
    "#원래는 sampling 자체를 title column이 분보도가 비슷하게 해야 하지만 그냥 진행"
   ]
  },
  {
   "cell_type": "code",
   "execution_count": 84,
   "metadata": {},
   "outputs": [
    {
     "name": "stderr",
     "output_type": "stream",
     "text": [
      "<ipython-input-84-ab6895e065ae>:1: SettingWithCopyWarning: \n",
      "A value is trying to be set on a copy of a slice from a DataFrame.\n",
      "Try using .loc[row_indexer,col_indexer] = value instead\n",
      "\n",
      "See the caveats in the documentation: https://pandas.pydata.org/pandas-docs/stable/user_guide/indexing.html#returning-a-view-versus-a-copy\n",
      "  sampling['final_genres'] = sampling['genres'].apply(\n"
     ]
    }
   ],
   "source": [
    "sampling['final_genres'] = sampling['genres'].apply(\n",
    "    lambda x: safe_literal_eval(x)\n",
    ")"
   ]
  },
  {
   "cell_type": "code",
   "execution_count": 87,
   "metadata": {},
   "outputs": [
    {
     "name": "stderr",
     "output_type": "stream",
     "text": [
      "<ipython-input-87-1f91034adee2>:1: SettingWithCopyWarning: \n",
      "A value is trying to be set on a copy of a slice from a DataFrame.\n",
      "Try using .loc[row_indexer,col_indexer] = value instead\n",
      "\n",
      "See the caveats in the documentation: https://pandas.pydata.org/pandas-docs/stable/user_guide/indexing.html#returning-a-view-versus-a-copy\n",
      "  sampling['final_genres'] = sampling['final_genres'].apply(\n"
     ]
    }
   ],
   "source": [
    "sampling['final_genres'] = sampling['final_genres'].apply(\n",
    "    lambda x : [d['name'] for d in x]\n",
    ")"
   ]
  },
  {
   "cell_type": "code",
   "execution_count": 91,
   "metadata": {},
   "outputs": [
    {
     "name": "stderr",
     "output_type": "stream",
     "text": [
      "<ipython-input-91-d20c50f44725>:1: SettingWithCopyWarning: \n",
      "A value is trying to be set on a copy of a slice from a DataFrame.\n",
      "Try using .loc[row_indexer,col_indexer] = value instead\n",
      "\n",
      "See the caveats in the documentation: https://pandas.pydata.org/pandas-docs/stable/user_guide/indexing.html#returning-a-view-versus-a-copy\n",
      "  sampling['final_genres'] = sampling['final_genres'].apply(\n"
     ]
    }
   ],
   "source": [
    "sampling['final_genres'] = sampling['final_genres'].apply(\n",
    "    lambda x : x[0]\n",
    ")"
   ]
  },
  {
   "cell_type": "code",
   "execution_count": 96,
   "metadata": {},
   "outputs": [
    {
     "name": "stderr",
     "output_type": "stream",
     "text": [
      "C:\\Users\\KTDS\\anaconda3\\lib\\site-packages\\pandas\\core\\frame.py:4163: SettingWithCopyWarning: \n",
      "A value is trying to be set on a copy of a slice from a DataFrame\n",
      "\n",
      "See the caveats in the documentation: https://pandas.pydata.org/pandas-docs/stable/user_guide/indexing.html#returning-a-view-versus-a-copy\n",
      "  return super().drop(\n"
     ]
    }
   ],
   "source": [
    "sampling.drop(\"genres\",axis = 1,inplace = True)"
   ]
  },
  {
   "cell_type": "code",
   "execution_count": 98,
   "metadata": {},
   "outputs": [],
   "source": [
    "m_u_rating = sampling.pivot_table('rating',index = 'title',columns = 'userId')"
   ]
  },
  {
   "cell_type": "code",
   "execution_count": 99,
   "metadata": {},
   "outputs": [
    {
     "data": {
      "text/html": [
       "<div>\n",
       "<style scoped>\n",
       "    .dataframe tbody tr th:only-of-type {\n",
       "        vertical-align: middle;\n",
       "    }\n",
       "\n",
       "    .dataframe tbody tr th {\n",
       "        vertical-align: top;\n",
       "    }\n",
       "\n",
       "    .dataframe thead th {\n",
       "        text-align: right;\n",
       "    }\n",
       "</style>\n",
       "<table border=\"1\" class=\"dataframe\">\n",
       "  <thead>\n",
       "    <tr style=\"text-align: right;\">\n",
       "      <th>userId</th>\n",
       "      <th>1</th>\n",
       "      <th>3</th>\n",
       "      <th>5</th>\n",
       "      <th>9</th>\n",
       "      <th>11</th>\n",
       "      <th>12</th>\n",
       "      <th>20</th>\n",
       "      <th>22</th>\n",
       "      <th>24</th>\n",
       "      <th>27</th>\n",
       "      <th>...</th>\n",
       "      <th>270882</th>\n",
       "      <th>270884</th>\n",
       "      <th>270885</th>\n",
       "      <th>270887</th>\n",
       "      <th>270891</th>\n",
       "      <th>270892</th>\n",
       "      <th>270893</th>\n",
       "      <th>270894</th>\n",
       "      <th>270895</th>\n",
       "      <th>270896</th>\n",
       "    </tr>\n",
       "    <tr>\n",
       "      <th>title</th>\n",
       "      <th></th>\n",
       "      <th></th>\n",
       "      <th></th>\n",
       "      <th></th>\n",
       "      <th></th>\n",
       "      <th></th>\n",
       "      <th></th>\n",
       "      <th></th>\n",
       "      <th></th>\n",
       "      <th></th>\n",
       "      <th></th>\n",
       "      <th></th>\n",
       "      <th></th>\n",
       "      <th></th>\n",
       "      <th></th>\n",
       "      <th></th>\n",
       "      <th></th>\n",
       "      <th></th>\n",
       "      <th></th>\n",
       "      <th></th>\n",
       "      <th></th>\n",
       "    </tr>\n",
       "  </thead>\n",
       "  <tbody>\n",
       "    <tr>\n",
       "      <th>Rocky Balboa</th>\n",
       "      <td>5.0</td>\n",
       "      <td>NaN</td>\n",
       "      <td>NaN</td>\n",
       "      <td>4.5</td>\n",
       "      <td>NaN</td>\n",
       "      <td>5.0</td>\n",
       "      <td>NaN</td>\n",
       "      <td>NaN</td>\n",
       "      <td>4.0</td>\n",
       "      <td>NaN</td>\n",
       "      <td>...</td>\n",
       "      <td>NaN</td>\n",
       "      <td>NaN</td>\n",
       "      <td>NaN</td>\n",
       "      <td>NaN</td>\n",
       "      <td>NaN</td>\n",
       "      <td>NaN</td>\n",
       "      <td>NaN</td>\n",
       "      <td>NaN</td>\n",
       "      <td>NaN</td>\n",
       "      <td>NaN</td>\n",
       "    </tr>\n",
       "    <tr>\n",
       "      <th>Sleepless in Seattle</th>\n",
       "      <td>5.0</td>\n",
       "      <td>4.0</td>\n",
       "      <td>5.0</td>\n",
       "      <td>NaN</td>\n",
       "      <td>NaN</td>\n",
       "      <td>4.0</td>\n",
       "      <td>4.5</td>\n",
       "      <td>NaN</td>\n",
       "      <td>5.0</td>\n",
       "      <td>5.0</td>\n",
       "      <td>...</td>\n",
       "      <td>NaN</td>\n",
       "      <td>4.0</td>\n",
       "      <td>5.0</td>\n",
       "      <td>5.0</td>\n",
       "      <td>NaN</td>\n",
       "      <td>4.5</td>\n",
       "      <td>NaN</td>\n",
       "      <td>4.0</td>\n",
       "      <td>NaN</td>\n",
       "      <td>5.0</td>\n",
       "    </tr>\n",
       "    <tr>\n",
       "      <th>The 400 Blows</th>\n",
       "      <td>4.5</td>\n",
       "      <td>NaN</td>\n",
       "      <td>NaN</td>\n",
       "      <td>NaN</td>\n",
       "      <td>NaN</td>\n",
       "      <td>NaN</td>\n",
       "      <td>NaN</td>\n",
       "      <td>NaN</td>\n",
       "      <td>4.0</td>\n",
       "      <td>NaN</td>\n",
       "      <td>...</td>\n",
       "      <td>NaN</td>\n",
       "      <td>NaN</td>\n",
       "      <td>NaN</td>\n",
       "      <td>NaN</td>\n",
       "      <td>NaN</td>\n",
       "      <td>NaN</td>\n",
       "      <td>NaN</td>\n",
       "      <td>NaN</td>\n",
       "      <td>NaN</td>\n",
       "      <td>NaN</td>\n",
       "    </tr>\n",
       "    <tr>\n",
       "      <th>Three Colors: Red</th>\n",
       "      <td>1.0</td>\n",
       "      <td>NaN</td>\n",
       "      <td>NaN</td>\n",
       "      <td>NaN</td>\n",
       "      <td>3.5</td>\n",
       "      <td>NaN</td>\n",
       "      <td>NaN</td>\n",
       "      <td>5.0</td>\n",
       "      <td>5.0</td>\n",
       "      <td>NaN</td>\n",
       "      <td>...</td>\n",
       "      <td>5.0</td>\n",
       "      <td>NaN</td>\n",
       "      <td>4.5</td>\n",
       "      <td>NaN</td>\n",
       "      <td>5.0</td>\n",
       "      <td>NaN</td>\n",
       "      <td>5.0</td>\n",
       "      <td>NaN</td>\n",
       "      <td>4.0</td>\n",
       "      <td>5.0</td>\n",
       "    </tr>\n",
       "  </tbody>\n",
       "</table>\n",
       "<p>4 rows × 103231 columns</p>\n",
       "</div>"
      ],
      "text/plain": [
       "userId                1       3       5       9       11      12      20      \\\n",
       "title                                                                          \n",
       "Rocky Balboa             5.0     NaN     NaN     4.5     NaN     5.0     NaN   \n",
       "Sleepless in Seattle     5.0     4.0     5.0     NaN     NaN     4.0     4.5   \n",
       "The 400 Blows            4.5     NaN     NaN     NaN     NaN     NaN     NaN   \n",
       "Three Colors: Red        1.0     NaN     NaN     NaN     3.5     NaN     NaN   \n",
       "\n",
       "userId                22      24      27      ...  270882  270884  270885  \\\n",
       "title                                         ...                           \n",
       "Rocky Balboa             NaN     4.0     NaN  ...     NaN     NaN     NaN   \n",
       "Sleepless in Seattle     NaN     5.0     5.0  ...     NaN     4.0     5.0   \n",
       "The 400 Blows            NaN     4.0     NaN  ...     NaN     NaN     NaN   \n",
       "Three Colors: Red        5.0     5.0     NaN  ...     5.0     NaN     4.5   \n",
       "\n",
       "userId                270887  270891  270892  270893  270894  270895  270896  \n",
       "title                                                                         \n",
       "Rocky Balboa             NaN     NaN     NaN     NaN     NaN     NaN     NaN  \n",
       "Sleepless in Seattle     5.0     NaN     4.5     NaN     4.0     NaN     5.0  \n",
       "The 400 Blows            NaN     NaN     NaN     NaN     NaN     NaN     NaN  \n",
       "Three Colors: Red        NaN     5.0     NaN     5.0     NaN     4.0     5.0  \n",
       "\n",
       "[4 rows x 103231 columns]"
      ]
     },
     "execution_count": 99,
     "metadata": {},
     "output_type": "execute_result"
    }
   ],
   "source": [
    "m_u_rating"
   ]
  },
  {
   "cell_type": "code",
   "execution_count": 100,
   "metadata": {},
   "outputs": [],
   "source": [
    "u_m_rating = sampling.pivot_table('rating',index = 'userId',columns = 'title')"
   ]
  },
  {
   "cell_type": "code",
   "execution_count": 101,
   "metadata": {},
   "outputs": [
    {
     "data": {
      "text/html": [
       "<div>\n",
       "<style scoped>\n",
       "    .dataframe tbody tr th:only-of-type {\n",
       "        vertical-align: middle;\n",
       "    }\n",
       "\n",
       "    .dataframe tbody tr th {\n",
       "        vertical-align: top;\n",
       "    }\n",
       "\n",
       "    .dataframe thead th {\n",
       "        text-align: right;\n",
       "    }\n",
       "</style>\n",
       "<table border=\"1\" class=\"dataframe\">\n",
       "  <thead>\n",
       "    <tr style=\"text-align: right;\">\n",
       "      <th>title</th>\n",
       "      <th>Rocky Balboa</th>\n",
       "      <th>Sleepless in Seattle</th>\n",
       "      <th>The 400 Blows</th>\n",
       "      <th>Three Colors: Red</th>\n",
       "    </tr>\n",
       "    <tr>\n",
       "      <th>userId</th>\n",
       "      <th></th>\n",
       "      <th></th>\n",
       "      <th></th>\n",
       "      <th></th>\n",
       "    </tr>\n",
       "  </thead>\n",
       "  <tbody>\n",
       "    <tr>\n",
       "      <th>1</th>\n",
       "      <td>5.0</td>\n",
       "      <td>5.0</td>\n",
       "      <td>4.5</td>\n",
       "      <td>1.0</td>\n",
       "    </tr>\n",
       "    <tr>\n",
       "      <th>3</th>\n",
       "      <td>NaN</td>\n",
       "      <td>4.0</td>\n",
       "      <td>NaN</td>\n",
       "      <td>NaN</td>\n",
       "    </tr>\n",
       "    <tr>\n",
       "      <th>5</th>\n",
       "      <td>NaN</td>\n",
       "      <td>5.0</td>\n",
       "      <td>NaN</td>\n",
       "      <td>NaN</td>\n",
       "    </tr>\n",
       "    <tr>\n",
       "      <th>9</th>\n",
       "      <td>4.5</td>\n",
       "      <td>NaN</td>\n",
       "      <td>NaN</td>\n",
       "      <td>NaN</td>\n",
       "    </tr>\n",
       "    <tr>\n",
       "      <th>11</th>\n",
       "      <td>NaN</td>\n",
       "      <td>NaN</td>\n",
       "      <td>NaN</td>\n",
       "      <td>3.5</td>\n",
       "    </tr>\n",
       "    <tr>\n",
       "      <th>...</th>\n",
       "      <td>...</td>\n",
       "      <td>...</td>\n",
       "      <td>...</td>\n",
       "      <td>...</td>\n",
       "    </tr>\n",
       "    <tr>\n",
       "      <th>270892</th>\n",
       "      <td>NaN</td>\n",
       "      <td>4.5</td>\n",
       "      <td>NaN</td>\n",
       "      <td>NaN</td>\n",
       "    </tr>\n",
       "    <tr>\n",
       "      <th>270893</th>\n",
       "      <td>NaN</td>\n",
       "      <td>NaN</td>\n",
       "      <td>NaN</td>\n",
       "      <td>5.0</td>\n",
       "    </tr>\n",
       "    <tr>\n",
       "      <th>270894</th>\n",
       "      <td>NaN</td>\n",
       "      <td>4.0</td>\n",
       "      <td>NaN</td>\n",
       "      <td>NaN</td>\n",
       "    </tr>\n",
       "    <tr>\n",
       "      <th>270895</th>\n",
       "      <td>NaN</td>\n",
       "      <td>NaN</td>\n",
       "      <td>NaN</td>\n",
       "      <td>4.0</td>\n",
       "    </tr>\n",
       "    <tr>\n",
       "      <th>270896</th>\n",
       "      <td>NaN</td>\n",
       "      <td>5.0</td>\n",
       "      <td>NaN</td>\n",
       "      <td>5.0</td>\n",
       "    </tr>\n",
       "  </tbody>\n",
       "</table>\n",
       "<p>103231 rows × 4 columns</p>\n",
       "</div>"
      ],
      "text/plain": [
       "title   Rocky Balboa  Sleepless in Seattle  The 400 Blows  Three Colors: Red\n",
       "userId                                                                      \n",
       "1                5.0                   5.0            4.5                1.0\n",
       "3                NaN                   4.0            NaN                NaN\n",
       "5                NaN                   5.0            NaN                NaN\n",
       "9                4.5                   NaN            NaN                NaN\n",
       "11               NaN                   NaN            NaN                3.5\n",
       "...              ...                   ...            ...                ...\n",
       "270892           NaN                   4.5            NaN                NaN\n",
       "270893           NaN                   NaN            NaN                5.0\n",
       "270894           NaN                   4.0            NaN                NaN\n",
       "270895           NaN                   NaN            NaN                4.0\n",
       "270896           NaN                   5.0            NaN                5.0\n",
       "\n",
       "[103231 rows x 4 columns]"
      ]
     },
     "execution_count": 101,
     "metadata": {},
     "output_type": "execute_result"
    }
   ],
   "source": [
    "u_m_rating"
   ]
  },
  {
   "cell_type": "code",
   "execution_count": 102,
   "metadata": {},
   "outputs": [],
   "source": [
    "m_u_rating.fillna(0,inplace = True)"
   ]
  },
  {
   "cell_type": "code",
   "execution_count": 105,
   "metadata": {},
   "outputs": [],
   "source": [
    "from sklearn.feature_extraction.text import CountVectorizer\n",
    "from sklearn.metrics.pairwise import cosine_similarity"
   ]
  },
  {
   "cell_type": "code",
   "execution_count": 106,
   "metadata": {},
   "outputs": [],
   "source": [
    "item_based_collabor = cosine_similarity(m_u_rating)"
   ]
  },
  {
   "cell_type": "code",
   "execution_count": 107,
   "metadata": {},
   "outputs": [
    {
     "data": {
      "text/plain": [
       "array([[1.        , 0.32364098, 0.1497164 , 0.32298149],\n",
       "       [0.32364098, 1.        , 0.12673735, 0.41003105],\n",
       "       [0.1497164 , 0.12673735, 1.        , 0.15418458],\n",
       "       [0.32298149, 0.41003105, 0.15418458, 1.        ]])"
      ]
     },
     "execution_count": 107,
     "metadata": {},
     "output_type": "execute_result"
    }
   ],
   "source": [
    "item_based_collabor"
   ]
  },
  {
   "cell_type": "code",
   "execution_count": 108,
   "metadata": {},
   "outputs": [],
   "source": [
    "item_based_colla = pd.DataFrame(data = item_based_collabor, index = m_u_rating.index,columns = m_u_rating.index)"
   ]
  },
  {
   "cell_type": "code",
   "execution_count": 113,
   "metadata": {},
   "outputs": [
    {
     "data": {
      "text/html": [
       "<div>\n",
       "<style scoped>\n",
       "    .dataframe tbody tr th:only-of-type {\n",
       "        vertical-align: middle;\n",
       "    }\n",
       "\n",
       "    .dataframe tbody tr th {\n",
       "        vertical-align: top;\n",
       "    }\n",
       "\n",
       "    .dataframe thead th {\n",
       "        text-align: right;\n",
       "    }\n",
       "</style>\n",
       "<table border=\"1\" class=\"dataframe\">\n",
       "  <thead>\n",
       "    <tr style=\"text-align: right;\">\n",
       "      <th>title</th>\n",
       "      <th>Rocky Balboa</th>\n",
       "      <th>Sleepless in Seattle</th>\n",
       "      <th>The 400 Blows</th>\n",
       "      <th>Three Colors: Red</th>\n",
       "    </tr>\n",
       "    <tr>\n",
       "      <th>title</th>\n",
       "      <th></th>\n",
       "      <th></th>\n",
       "      <th></th>\n",
       "      <th></th>\n",
       "    </tr>\n",
       "  </thead>\n",
       "  <tbody>\n",
       "    <tr>\n",
       "      <th>Rocky Balboa</th>\n",
       "      <td>1.000000</td>\n",
       "      <td>0.323641</td>\n",
       "      <td>0.149716</td>\n",
       "      <td>0.322981</td>\n",
       "    </tr>\n",
       "    <tr>\n",
       "      <th>Sleepless in Seattle</th>\n",
       "      <td>0.323641</td>\n",
       "      <td>1.000000</td>\n",
       "      <td>0.126737</td>\n",
       "      <td>0.410031</td>\n",
       "    </tr>\n",
       "    <tr>\n",
       "      <th>The 400 Blows</th>\n",
       "      <td>0.149716</td>\n",
       "      <td>0.126737</td>\n",
       "      <td>1.000000</td>\n",
       "      <td>0.154185</td>\n",
       "    </tr>\n",
       "    <tr>\n",
       "      <th>Three Colors: Red</th>\n",
       "      <td>0.322981</td>\n",
       "      <td>0.410031</td>\n",
       "      <td>0.154185</td>\n",
       "      <td>1.000000</td>\n",
       "    </tr>\n",
       "  </tbody>\n",
       "</table>\n",
       "</div>"
      ],
      "text/plain": [
       "title                 Rocky Balboa  Sleepless in Seattle  The 400 Blows  \\\n",
       "title                                                                     \n",
       "Rocky Balboa              1.000000              0.323641       0.149716   \n",
       "Sleepless in Seattle      0.323641              1.000000       0.126737   \n",
       "The 400 Blows             0.149716              0.126737       1.000000   \n",
       "Three Colors: Red         0.322981              0.410031       0.154185   \n",
       "\n",
       "title                 Three Colors: Red  \n",
       "title                                    \n",
       "Rocky Balboa                   0.322981  \n",
       "Sleepless in Seattle           0.410031  \n",
       "The 400 Blows                  0.154185  \n",
       "Three Colors: Red              1.000000  "
      ]
     },
     "execution_count": 113,
     "metadata": {},
     "output_type": "execute_result"
    }
   ],
   "source": [
    "item_based_colla"
   ]
  },
  {
   "cell_type": "code",
   "execution_count": 120,
   "metadata": {},
   "outputs": [],
   "source": [
    "def recommend(title):\n",
    "    return item_based_colla[title].sort_values(ascending = False)[1:]"
   ]
  },
  {
   "cell_type": "code",
   "execution_count": 121,
   "metadata": {},
   "outputs": [
    {
     "data": {
      "text/plain": [
       "title\n",
       "Sleepless in Seattle    0.323641\n",
       "Three Colors: Red       0.322981\n",
       "The 400 Blows           0.149716\n",
       "Name: Rocky Balboa, dtype: float64"
      ]
     },
     "execution_count": 121,
     "metadata": {},
     "output_type": "execute_result"
    }
   ],
   "source": [
    "recommend('Rocky Balboa')"
   ]
  },
  {
   "cell_type": "code",
   "execution_count": null,
   "metadata": {},
   "outputs": [],
   "source": []
  }
 ],
 "metadata": {
  "kernelspec": {
   "display_name": "Python 3",
   "language": "python",
   "name": "python3"
  },
  "language_info": {
   "codemirror_mode": {
    "name": "ipython",
    "version": 3
   },
   "file_extension": ".py",
   "mimetype": "text/x-python",
   "name": "python",
   "nbconvert_exporter": "python",
   "pygments_lexer": "ipython3",
   "version": "3.8.5"
  }
 },
 "nbformat": 4,
 "nbformat_minor": 4
}
