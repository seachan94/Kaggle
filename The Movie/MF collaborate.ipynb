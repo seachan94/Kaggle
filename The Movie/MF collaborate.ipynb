{
 "cells": [
  {
   "cell_type": "code",
   "execution_count": 1,
   "metadata": {},
   "outputs": [],
   "source": [
    "import pandas as pd"
   ]
  },
  {
   "cell_type": "code",
   "execution_count": 13,
   "metadata": {},
   "outputs": [],
   "source": [
    "rating_data = pd.read_csv('archive2/ratings.csv')\n",
    "movie_data = pd.read_csv('archive2/movies.csv')\n",
    "rating_data.drop('timestamp',axis = 1,inplace =True)\n",
    "movie_data.drop('genres',axis = 1,inplace = True)"
   ]
  },
  {
   "cell_type": "code",
   "execution_count": 14,
   "metadata": {},
   "outputs": [],
   "source": [
    "merge_data = pd.merge(rating_data, movie_data, on = 'movieId')"
   ]
  },
  {
   "cell_type": "code",
   "execution_count": 15,
   "metadata": {},
   "outputs": [
    {
     "data": {
      "text/html": [
       "<div>\n",
       "<style scoped>\n",
       "    .dataframe tbody tr th:only-of-type {\n",
       "        vertical-align: middle;\n",
       "    }\n",
       "\n",
       "    .dataframe tbody tr th {\n",
       "        vertical-align: top;\n",
       "    }\n",
       "\n",
       "    .dataframe thead th {\n",
       "        text-align: right;\n",
       "    }\n",
       "</style>\n",
       "<table border=\"1\" class=\"dataframe\">\n",
       "  <thead>\n",
       "    <tr style=\"text-align: right;\">\n",
       "      <th></th>\n",
       "      <th>userId</th>\n",
       "      <th>movieId</th>\n",
       "      <th>rating</th>\n",
       "      <th>title</th>\n",
       "    </tr>\n",
       "  </thead>\n",
       "  <tbody>\n",
       "    <tr>\n",
       "      <th>0</th>\n",
       "      <td>1</td>\n",
       "      <td>31</td>\n",
       "      <td>2.5</td>\n",
       "      <td>Dangerous Minds (1995)</td>\n",
       "    </tr>\n",
       "    <tr>\n",
       "      <th>1</th>\n",
       "      <td>7</td>\n",
       "      <td>31</td>\n",
       "      <td>3.0</td>\n",
       "      <td>Dangerous Minds (1995)</td>\n",
       "    </tr>\n",
       "    <tr>\n",
       "      <th>2</th>\n",
       "      <td>31</td>\n",
       "      <td>31</td>\n",
       "      <td>4.0</td>\n",
       "      <td>Dangerous Minds (1995)</td>\n",
       "    </tr>\n",
       "    <tr>\n",
       "      <th>3</th>\n",
       "      <td>32</td>\n",
       "      <td>31</td>\n",
       "      <td>4.0</td>\n",
       "      <td>Dangerous Minds (1995)</td>\n",
       "    </tr>\n",
       "    <tr>\n",
       "      <th>4</th>\n",
       "      <td>36</td>\n",
       "      <td>31</td>\n",
       "      <td>3.0</td>\n",
       "      <td>Dangerous Minds (1995)</td>\n",
       "    </tr>\n",
       "    <tr>\n",
       "      <th>...</th>\n",
       "      <td>...</td>\n",
       "      <td>...</td>\n",
       "      <td>...</td>\n",
       "      <td>...</td>\n",
       "    </tr>\n",
       "    <tr>\n",
       "      <th>99999</th>\n",
       "      <td>664</td>\n",
       "      <td>64997</td>\n",
       "      <td>2.5</td>\n",
       "      <td>War of the Worlds (2005)</td>\n",
       "    </tr>\n",
       "    <tr>\n",
       "      <th>100000</th>\n",
       "      <td>664</td>\n",
       "      <td>72380</td>\n",
       "      <td>3.5</td>\n",
       "      <td>Box, The (2009)</td>\n",
       "    </tr>\n",
       "    <tr>\n",
       "      <th>100001</th>\n",
       "      <td>665</td>\n",
       "      <td>129</td>\n",
       "      <td>3.0</td>\n",
       "      <td>Pie in the Sky (1996)</td>\n",
       "    </tr>\n",
       "    <tr>\n",
       "      <th>100002</th>\n",
       "      <td>665</td>\n",
       "      <td>4736</td>\n",
       "      <td>1.0</td>\n",
       "      <td>Summer Catch (2001)</td>\n",
       "    </tr>\n",
       "    <tr>\n",
       "      <th>100003</th>\n",
       "      <td>668</td>\n",
       "      <td>6425</td>\n",
       "      <td>1.0</td>\n",
       "      <td>6th Man, The (Sixth Man, The) (1997)</td>\n",
       "    </tr>\n",
       "  </tbody>\n",
       "</table>\n",
       "<p>100004 rows × 4 columns</p>\n",
       "</div>"
      ],
      "text/plain": [
       "        userId  movieId  rating                                 title\n",
       "0            1       31     2.5                Dangerous Minds (1995)\n",
       "1            7       31     3.0                Dangerous Minds (1995)\n",
       "2           31       31     4.0                Dangerous Minds (1995)\n",
       "3           32       31     4.0                Dangerous Minds (1995)\n",
       "4           36       31     3.0                Dangerous Minds (1995)\n",
       "...        ...      ...     ...                                   ...\n",
       "99999      664    64997     2.5              War of the Worlds (2005)\n",
       "100000     664    72380     3.5                       Box, The (2009)\n",
       "100001     665      129     3.0                 Pie in the Sky (1996)\n",
       "100002     665     4736     1.0                   Summer Catch (2001)\n",
       "100003     668     6425     1.0  6th Man, The (Sixth Man, The) (1997)\n",
       "\n",
       "[100004 rows x 4 columns]"
      ]
     },
     "execution_count": 15,
     "metadata": {},
     "output_type": "execute_result"
    }
   ],
   "source": [
    "merge_data"
   ]
  },
  {
   "cell_type": "code",
   "execution_count": 16,
   "metadata": {},
   "outputs": [],
   "source": [
    "u_m_rating = merge_data.pivot_table('rating',columns = 'title',index = 'userId')"
   ]
  },
  {
   "cell_type": "code",
   "execution_count": 20,
   "metadata": {},
   "outputs": [],
   "source": [
    "u_m_rating = u_m_rating.fillna(0)"
   ]
  },
  {
   "cell_type": "code",
   "execution_count": 24,
   "metadata": {},
   "outputs": [],
   "source": [
    "m_u_rating = u_m_rating.values.T"
   ]
  },
  {
   "cell_type": "code",
   "execution_count": 26,
   "metadata": {},
   "outputs": [
    {
     "data": {
      "text/plain": [
       "(9064, 671)"
      ]
     },
     "execution_count": 26,
     "metadata": {},
     "output_type": "execute_result"
    }
   ],
   "source": [
    "m_u_rating.shape"
   ]
  },
  {
   "cell_type": "code",
   "execution_count": 35,
   "metadata": {},
   "outputs": [],
   "source": [
    "from sklearn.decomposition import TruncatedSVD\n",
    "from scipy.sparse import random as sparse_random\n",
    "import numpy as np"
   ]
  },
  {
   "cell_type": "code",
   "execution_count": 29,
   "metadata": {},
   "outputs": [],
   "source": [
    "SVD = TruncatedSVD(n_components=12)\n",
    "matrix = SVD.fit_transform(m_u_rating)"
   ]
  },
  {
   "cell_type": "code",
   "execution_count": 36,
   "metadata": {},
   "outputs": [],
   "source": [
    "#Pearson corr\n",
    "corr = np.corrcoef(matrix)"
   ]
  },
  {
   "cell_type": "code",
   "execution_count": 79,
   "metadata": {},
   "outputs": [
    {
     "data": {
      "text/plain": [
       "(9064, 9064)"
      ]
     },
     "execution_count": 79,
     "metadata": {},
     "output_type": "execute_result"
    }
   ],
   "source": [
    "corr.shape"
   ]
  },
  {
   "cell_type": "code",
   "execution_count": 59,
   "metadata": {},
   "outputs": [],
   "source": [
    "movie_title = u_m_rating.columns\n",
    "l_m_title = list(movie_title)\n",
    "m_idx = l_m_title.index(\"Guardians of the Galaxy (2014)\")\n"
   ]
  },
  {
   "cell_type": "code",
   "execution_count": 60,
   "metadata": {},
   "outputs": [],
   "source": [
    "corr_coffey_hands = corr[m_idx]"
   ]
  },
  {
   "cell_type": "code",
   "execution_count": 84,
   "metadata": {},
   "outputs": [],
   "source": [
    "def recommend(title):\n",
    "    idx = l_m_title.index(title)\n",
    "    return list(movie_title[corr[idx]>=0.9])[:50]"
   ]
  },
  {
   "cell_type": "code",
   "execution_count": 85,
   "metadata": {},
   "outputs": [
    {
     "data": {
      "text/plain": [
       "['2 Guns (2013)',\n",
       " '2012 (2009)',\n",
       " '21 (2008)',\n",
       " '300: Rise of an Empire (2014)',\n",
       " 'Abduction (2011)',\n",
       " 'Adjustment Bureau, The (2011)',\n",
       " 'Adventures of Tintin, The (2011)',\n",
       " 'Alice in Wonderland (2010)',\n",
       " 'Amazing Spider-Man, The (2012)',\n",
       " 'Angels & Demons (2009)',\n",
       " 'Ant-Man (2015)',\n",
       " 'Avatar (2009)',\n",
       " 'Avengers, The (2012)',\n",
       " 'Avengers: Age of Ultron (2015)',\n",
       " 'Batman: The Dark Knight Returns, Part 1 (2012)',\n",
       " 'Batman: The Dark Knight Returns, Part 2 (2013)',\n",
       " 'Battle: Los Angeles (2011)',\n",
       " 'Beowulf (2007)',\n",
       " 'Big Hero 6 (2014)',\n",
       " 'Bolt (2008)',\n",
       " 'Book of Eli, The (2010)',\n",
       " 'Brave (2012)',\n",
       " 'Captain America: Civil War (2016)',\n",
       " 'Captain America: The First Avenger (2011)',\n",
       " 'Captain America: The Winter Soldier (2014)',\n",
       " 'Chronicle (2012)',\n",
       " 'Click (2006)',\n",
       " 'Cloverfield (2008)',\n",
       " 'Cop Out (2010)',\n",
       " 'Dark Knight Rises, The (2012)',\n",
       " 'Diary of a Wimpy Kid (2010)',\n",
       " 'District 9 (2009)',\n",
       " 'Dredd (2012)',\n",
       " 'Drillbit Taylor (2008)',\n",
       " 'Edge of Tomorrow (2014)',\n",
       " 'Elysium (2013)',\n",
       " \"Ender's Game (2013)\",\n",
       " 'Ex Machina (2015)',\n",
       " 'Fright Night (2011)',\n",
       " 'Fury (2014)',\n",
       " 'Get Smart (2008)',\n",
       " 'Ghost Rider: Spirit of Vengeance (2012)',\n",
       " 'Girl with the Dragon Tattoo, The (2011)',\n",
       " 'Gone Girl (2014)',\n",
       " 'Gravity (2013)',\n",
       " 'Green Hornet, The (2011)',\n",
       " 'Green Lantern (2011)',\n",
       " 'Guardians of the Galaxy (2014)',\n",
       " 'Hancock (2008)',\n",
       " 'Hellboy II: The Golden Army (2008)']"
      ]
     },
     "execution_count": 85,
     "metadata": {},
     "output_type": "execute_result"
    }
   ],
   "source": [
    "recommend(\"Guardians of the Galaxy (2014)\")"
   ]
  },
  {
   "cell_type": "code",
   "execution_count": null,
   "metadata": {},
   "outputs": [],
   "source": []
  },
  {
   "cell_type": "code",
   "execution_count": null,
   "metadata": {},
   "outputs": [],
   "source": []
  },
  {
   "cell_type": "code",
   "execution_count": null,
   "metadata": {},
   "outputs": [],
   "source": []
  }
 ],
 "metadata": {
  "kernelspec": {
   "display_name": "Python 3",
   "language": "python",
   "name": "python3"
  },
  "language_info": {
   "codemirror_mode": {
    "name": "ipython",
    "version": 3
   },
   "file_extension": ".py",
   "mimetype": "text/x-python",
   "name": "python",
   "nbconvert_exporter": "python",
   "pygments_lexer": "ipython3",
   "version": "3.8.5"
  }
 },
 "nbformat": 4,
 "nbformat_minor": 4
}
